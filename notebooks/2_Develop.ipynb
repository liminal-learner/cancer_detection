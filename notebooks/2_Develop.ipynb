{
  "nbformat": 4,
  "nbformat_minor": 0,
  "metadata": {
    "kernelspec": {
      "name": "python3",
      "display_name": "Python 3"
    },
    "language_info": {
      "pygments_lexer": "ipython3",
      "nbconvert_exporter": "python",
      "version": "3.6.4",
      "file_extension": ".py",
      "codemirror_mode": {
        "name": "ipython",
        "version": 3
      },
      "name": "python",
      "mimetype": "text/x-python"
    },
    "colab": {
      "name": "2_Develop.ipynb",
      "provenance": []
    },
    "accelerator": "GPU"
  },
  "cells": [
    {
      "cell_type": "markdown",
      "metadata": {
        "id": "_wU5zOBq3sAA",
        "colab_type": "text"
      },
      "source": [
        "# Develop"
      ]
    },
    {
      "cell_type": "markdown",
      "metadata": {
        "id": "rmOXQoYO3sAF",
        "colab_type": "text"
      },
      "source": [
        "Some basics of Keras and tensorflow I have learned with the help of these notebooks by: [siimondele](https://www.kaggle.com/sdelecourt/cnn-with-keras), [Francesco Marazzi](https://www.kaggle.com/fmarazzi/baseline-keras-cnn-roc-fast-10min-0-925-lb)"
      ]
    },
    {
      "cell_type": "code",
      "metadata": {
        "_uuid": "d629ff2d2480ee46fbb7e2d37f6b5fab8052498a",
        "_cell_guid": "79c7e3d0-c299-4dcb-8224-4455121ee9b0",
        "trusted": true,
        "id": "ylh-gI2T3sAG",
        "colab_type": "code",
        "outputId": "646e0356-81fa-415c-db5c-232d8c11d9e1",
        "colab": {
          "base_uri": "https://localhost:8080/",
          "height": 81
        }
      },
      "source": [
        "import pandas as pd\n",
        "from keras.preprocessing.image import ImageDataGenerator\n",
        "from sklearn.model_selection import train_test_split\n",
        "from sklearn.metrics import roc_curve, auc, roc_auc_score\n",
        "from tensorflow import keras\n",
        "\n",
        "import tensorflow as tf\n",
        "from keras.optimizers import Adam\n",
        "\n",
        "import matplotlib.pyplot as plt\n",
        "import os\n",
        "from sklearn.model_selection import cross_val_score\n",
        "import zipfile\n",
        "from google.colab import files"
      ],
      "execution_count": 1,
      "outputs": [
        {
          "output_type": "stream",
          "text": [
            "Using TensorFlow backend.\n"
          ],
          "name": "stderr"
        },
        {
          "output_type": "display_data",
          "data": {
            "text/html": [
              "<p style=\"color: red;\">\n",
              "The default version of TensorFlow in Colab will soon switch to TensorFlow 2.x.<br>\n",
              "We recommend you <a href=\"https://www.tensorflow.org/guide/migrate\" target=\"_blank\">upgrade</a> now \n",
              "or ensure your notebook will continue to use TensorFlow 1.x via the <code>%tensorflow_version 1.x</code> magic:\n",
              "<a href=\"https://colab.research.google.com/notebooks/tensorflow_version.ipynb\" target=\"_blank\">more info</a>.</p>\n"
            ],
            "text/plain": [
              "<IPython.core.display.HTML object>"
            ]
          },
          "metadata": {
            "tags": []
          }
        }
      ]
    },
    {
      "cell_type": "markdown",
      "metadata": {
        "id": "i1eazHbN3sAd",
        "colab_type": "text"
      },
      "source": [
        "### Define Data class"
      ]
    },
    {
      "cell_type": "code",
      "metadata": {
        "trusted": true,
        "id": "cLKZcmij3sAe",
        "colab_type": "code",
        "colab": {}
      },
      "source": [
        "class Data:\n",
        "    \"\"\" \n",
        "    This class creates dataframes containing ID and the label, if it exists \n",
        "    for the train, validation, and test sets. The IDs for the tets set need to \n",
        "    be found by looking at the names in the test folder. It then makes tensorflow \n",
        "    image generators by flowing from the dataframes that can be used to fit a model. \n",
        "    \"\"\"\n",
        "\n",
        "    def __init__(self, train_path, train_labels_path, test_path, unique_identifier, target_class_column):\n",
        "        self.train_path = train_path\n",
        "        self.train_labels_path = train_labels_path\n",
        "        self.test_path = test_path\n",
        "    \n",
        "        self.train_data_gen = ImageDataGenerator(validation_split = 0.2, \n",
        "                                                 # Fraction of images reserved for validation\n",
        "                                                rescale = 1./255,  # Normalize\n",
        "                                                horizontal_flip = True, # Randomly flip the orientations for training\n",
        "                                                vertical_flip = True)\n",
        "        self.test_data_gen = ImageDataGenerator(rescale = 1./255,\n",
        "                                                horizontal_flip = True,\n",
        "                                                vertical_flip = True)\n",
        "\n",
        "        self.image_size = (96, 96)\n",
        "        self.n_channels = 3\n",
        "        self.unique_identifier = 'id'\n",
        "        self.target_class_column = 'label'\n",
        "        \n",
        "        self.train_df = self._create_train_df(self.train_labels_path)\n",
        "        self.test_df = self._create_test_df(self.test_path)\n",
        "        self._create_data_generators()\n",
        "        \n",
        "    def _create_train_df(self, train_labels_path):\n",
        "        train_df = self._load_target_labels(train_labels_path)\n",
        "        train_df['id'] = train_df['id'].apply(lambda x: x+\".tif\")\n",
        "        return train_df.astype({'label': 'str'})\n",
        "\n",
        "    def _create_test_df(self, test_path):\n",
        "        filenames =[]\n",
        "        for dirname, _, filename in os.walk(test_path):\n",
        "            filenames.extend(filename)\n",
        "        return pd.DataFrame({\"id\":filenames})\n",
        "\n",
        "    def _create_data_generators(self):\n",
        "        pars = {'dataframe': self.train_df, \n",
        "                'directory': self.train_path, \n",
        "                'x_col': self.unique_identifier, # filenames of images\n",
        "                'y_col': self.target_class_column, # class\n",
        "                'target_size': self.image_size,\n",
        "                'class_mode':'binary', \n",
        "                'batch_size': 64} \n",
        "\n",
        "        self.train_generator = self.train_data_gen.flow_from_dataframe(**pars, subset = 'training') \n",
        "        self.validation_generator = self.train_data_gen.flow_from_dataframe(**pars, \n",
        "                                                                            subset = 'validation', \n",
        "                                                                            shuffle = False)\n",
        "                     # Don't shuffle the validation set, metrics will be evaluated \n",
        "                     # on the whole set at each epoch, and we want it in a set order \n",
        "                     # for predictions after training.\n",
        "                                                        \n",
        "        self.test_generator = self.test_data_gen.flow_from_dataframe(dataframe = self.test_df,\n",
        "                                                    directory = test_path,\n",
        "                                                    x_col = self.unique_identifier, # filename \n",
        "                                                    class_mode = None,\n",
        "                                                    target_size = self.image_size,\n",
        "                                                    batch_size = 1,\n",
        "                                                    shuffle = False) # Don't want to shuffle the test data\n",
        "    def _load_target_labels(self, filename):\n",
        "        return pd.read_csv(filename)"
      ],
      "execution_count": 0,
      "outputs": []
    },
    {
      "cell_type": "markdown",
      "metadata": {
        "id": "5Xw3RZx-3sAh",
        "colab_type": "text"
      },
      "source": [
        "### Define Model Container class:"
      ]
    },
    {
      "cell_type": "code",
      "metadata": {
        "trusted": true,
        "id": "LFBXG3je3sAi",
        "colab_type": "code",
        "colab": {}
      },
      "source": [
        "class ModelContainer:\n",
        "    \"\"\"\n",
        "    This class holds various models and may be used to train them and make \n",
        "    predictions on a data set. It will select the best model based on the AUC of \n",
        "    predictions on the validation set.\n",
        "    \"\"\"\n",
        "\n",
        "    def __init__(self, models=[]):\n",
        "        self.models = {}\n",
        "        [self.add_model(model) for model in models]\n",
        "\n",
        "        self.models_path = 'models'\n",
        "        os.makedirs(self.models_path, exist_ok = True)\n",
        "\n",
        "        self.best_model_name = None\n",
        "        self.predictions = None\n",
        "        self.roc_auc = {}\n",
        "        self.val_roc_auc = {} # Validation set\n",
        "    \n",
        "    def add_model(self, model):\n",
        "        self.models[model.name] = model\n",
        "    \n",
        "    def train_model(self, data, model_name):\n",
        "       \n",
        "        model = self.models[model_name]\n",
        "\n",
        "        checkpoint_cb = keras.callbacks.ModelCheckpoint(os.path.join(self.models_path, model_name + \".h5\"))\n",
        "        early_stopping_cb = keras.callbacks.EarlyStopping(patience = 10, restore_best_weights = True, verbose = 1)\n",
        "        \n",
        "        # Reduce learning rate on plateaus:\n",
        "        reduce_LR_cb = keras.callbacks.ReduceLROnPlateau(monitor='val_loss', patience = 10, verbose = 1, factor = 0.1)\n",
        "\n",
        "        history = model.fit(data.train_generator, \n",
        "                            epochs = 15, \n",
        "                            validation_data = (data.validation_generator), \n",
        "                            #use_multiprocessing=True,\n",
        "                            callbacks = [checkpoint_cb, reduce_LR_cb, early_stopping_cb])\n",
        "\n",
        "        # For some reason the names of these keys change for multiple runs of the \n",
        "        # training procedure:\n",
        "        self.roc_auc[model.name] = history.history[list(history.history.keys())[1]][-1] # 'auc'\n",
        "        self.val_roc_auc[model.name] = history.history[list(history.history.keys())[3]][-1] # 'val_auc'\n",
        "\n",
        "    def save_model(self, model_name):\n",
        "        # Save to model to file:\n",
        "        path_to_model = os.path.join(self.models_path, model_name + \".h5\")\n",
        "        self.models[model_name].save(path_to_model)\n",
        "        # For use with colab, download the file:\n",
        "        files.download(path_to_model)\n",
        "        \n",
        "    def select_best_model(self):\n",
        "        # Selects and saves the best model based based on AUC on validation set:\n",
        "        self.best_model_name = max(self.val_roc_auc, key = self.val_roc_auc.get)\n",
        "\n",
        "    def best_model_predict(self, data_gen):\n",
        "        self.predictions = self.models[self.best_model_name].predict(data_gen, verbose = 1)\n",
        "    \n",
        "    def print_summary(self):\n",
        "        print('\\nModel Summaries:\\n')\n",
        "        for model_name in self.models.keys():\n",
        "            print('\\n', model_name, '- ROC AUC:', models.roc_auc[model_name])\n",
        "            print('\\n', model_name, '- Validation ROC AUC:', models.val_roc_auc[model_name])\n",
        "\n",
        "        print('\\nBest Model:\\n', self.best_model_name)\n",
        "        print('\\nROC AUC of Best Model\\n', models.roc_auc[self.best_model_name])\n"
      ],
      "execution_count": 0,
      "outputs": []
    },
    {
      "cell_type": "markdown",
      "metadata": {
        "id": "47PukWn83sAl",
        "colab_type": "text"
      },
      "source": [
        "### Define parameters for this project & download the data from Kaggle:"
      ]
    },
    {
      "cell_type": "code",
      "metadata": {
        "id": "WmAGqj2q66m6",
        "colab_type": "code",
        "outputId": "c58e0361-d554-4ab5-f631-eba92d354491",
        "colab": {
          "resources": {
            "http://localhost:8080/nbextensions/google.colab/files.js": {
              "data": "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",
              "ok": true,
              "headers": [
                [
                  "content-type",
                  "application/javascript"
                ]
              ],
              "status": 200,
              "status_text": ""
            }
          },
          "base_uri": "https://localhost:8080/",
          "height": 72
        }
      },
      "source": [
        "# Use this to upload the kaggle.json from your local machine:\n",
        "uploaded = files.upload()"
      ],
      "execution_count": 6,
      "outputs": [
        {
          "output_type": "display_data",
          "data": {
            "text/html": [
              "\n",
              "     <input type=\"file\" id=\"files-476b448d-5631-45bd-8a06-7c075b91af39\" name=\"files[]\" multiple disabled />\n",
              "     <output id=\"result-476b448d-5631-45bd-8a06-7c075b91af39\">\n",
              "      Upload widget is only available when the cell has been executed in the\n",
              "      current browser session. Please rerun this cell to enable.\n",
              "      </output>\n",
              "      <script src=\"/nbextensions/google.colab/files.js\"></script> "
            ],
            "text/plain": [
              "<IPython.core.display.HTML object>"
            ]
          },
          "metadata": {
            "tags": []
          }
        },
        {
          "output_type": "stream",
          "text": [
            "Saving kaggle.json to kaggle.json\n"
          ],
          "name": "stdout"
        }
      ]
    },
    {
      "cell_type": "code",
      "metadata": {
        "id": "l8nwQJPA6uyG",
        "colab_type": "code",
        "outputId": "c24ce0ae-2a70-41f4-e0e7-38413f06dd73",
        "colab": {
          "base_uri": "https://localhost:8080/",
          "height": 259
        }
      },
      "source": [
        "!cp kaggle.json '/root/.kaggle/'\n",
        "!chmod 600 '/root/.kaggle/kaggle.json'\n",
        "!kaggle config set -n path -v '/content/'\n",
        "!kaggle competitions download histopathologic-cancer-detection"
      ],
      "execution_count": 8,
      "outputs": [
        {
          "output_type": "stream",
          "text": [
            "- path is now set to: /content/\n",
            "Warning: Looks like you're using an outdated API Version, please consider updating (server 1.5.6 / client 1.5.4)\n",
            "Downloading sample_submission.csv.zip to /content/competitions/histopathologic-cancer-detection\n",
            "  0% 0.00/1.33M [00:00<?, ?B/s]\n",
            "100% 1.33M/1.33M [00:00<00:00, 97.4MB/s]\n",
            "Downloading train_labels.csv.zip to /content/competitions/histopathologic-cancer-detection\n",
            "  0% 0.00/5.10M [00:00<?, ?B/s]\n",
            "100% 5.10M/5.10M [00:00<00:00, 47.1MB/s]\n",
            "Downloading test.zip to /content/competitions/histopathologic-cancer-detection\n",
            "100% 1.30G/1.30G [00:16<00:00, 83.3MB/s]\n",
            "100% 1.30G/1.30G [00:16<00:00, 84.2MB/s]\n",
            "Downloading train.zip to /content/competitions/histopathologic-cancer-detection\n",
            "100% 4.97G/4.98G [00:59<00:00, 142MB/s]\n",
            "100% 4.98G/4.98G [00:59<00:00, 89.3MB/s]\n"
          ],
          "name": "stdout"
        }
      ]
    },
    {
      "cell_type": "code",
      "metadata": {
        "trusted": true,
        "id": "AUwDI3wO3sAm",
        "colab_type": "code",
        "colab": {}
      },
      "source": [
        "root_dir = '/content/competitions/histopathologic-cancer-detection/'\n",
        "train_path = os.path.join(root_dir, 'train/')\n",
        "test_path = os.path.join(root_dir, 'test/')\n",
        "models_path = os.path.join(root_dir, 'models/')\n",
        "\n",
        "train_labels_path = os.path.join(root_dir, 'train_labels.csv/train_labels.csv')\n",
        "\n",
        "unique_identifier = 'id'\n",
        "target_class_column = 'label'"
      ],
      "execution_count": 0,
      "outputs": []
    },
    {
      "cell_type": "code",
      "metadata": {
        "id": "8q8letY58VVF",
        "colab_type": "code",
        "colab": {}
      },
      "source": [
        "# Unzip files in all zipped directories:\n",
        "os.chdir(root_dir)\n",
        "\n",
        "for path_to_zip_file in os.listdir():\n",
        "    new_directory = os.path.splitext(path_to_zip_file)[0]\n",
        "    os.makedirs(new_directory, exist_ok = True)\n",
        "    with zipfile.ZipFile(path_to_zip_file, 'r') as zip_ref:\n",
        "      zip_ref.extractall(new_directory)\n",
        "      zip_ref.close()"
      ],
      "execution_count": 0,
      "outputs": []
    },
    {
      "cell_type": "code",
      "metadata": {
        "id": "9tMTFr-m4MGA",
        "colab_type": "code",
        "colab": {}
      },
      "source": [
        "os.chdir(root_dir)"
      ],
      "execution_count": 0,
      "outputs": []
    },
    {
      "cell_type": "code",
      "metadata": {
        "id": "udO03v9C8YeR",
        "colab_type": "code",
        "outputId": "b7127d98-7693-445c-c51a-fcb605d03ea5",
        "colab": {
          "base_uri": "https://localhost:8080/",
          "height": 190
        }
      },
      "source": [
        "! ls -l | head -10"
      ],
      "execution_count": 7,
      "outputs": [
        {
          "output_type": "stream",
          "text": [
            "total 6617104\n",
            "drwxr-xr-x 2 root root       4096 Nov  1 20:37 models\n",
            "drwxr-xr-x 2 root root       4096 Nov  1 16:07 sample_submission.csv\n",
            "-rw-r--r-- 1 root root    1394488 Nov  1 16:02 sample_submission.csv.zip\n",
            "drwxr-xr-x 2 root root    4378624 Nov  1 16:08 test\n",
            "-rw-r--r-- 1 root root 1401100547 Nov  1 16:03 test.zip\n",
            "drwxr-xr-x 2 root root   16695296 Nov  1 16:07 train\n",
            "drwxr-xr-x 2 root root       4096 Nov  1 16:06 train_labels.csv\n",
            "-rw-r--r-- 1 root root    5352900 Nov  1 16:02 train_labels.csv.zip\n",
            "-rw-r--r-- 1 root root 5346961539 Nov  1 16:04 train.zip\n"
          ],
          "name": "stdout"
        }
      ]
    },
    {
      "cell_type": "markdown",
      "metadata": {
        "id": "ep0mJzwvuFx0",
        "colab_type": "text"
      },
      "source": [
        "## Prepare the data for modelling:"
      ]
    },
    {
      "cell_type": "code",
      "metadata": {
        "trusted": true,
        "id": "h4g_Ma4f3sAu",
        "colab_type": "code",
        "outputId": "af00fadd-0938-48eb-a118-05c44b67f7ef",
        "colab": {
          "base_uri": "https://localhost:8080/",
          "height": 69
        }
      },
      "source": [
        "data = Data(train_path, train_labels_path, test_path, unique_identifier, target_class_column)"
      ],
      "execution_count": 8,
      "outputs": [
        {
          "output_type": "stream",
          "text": [
            "Found 176020 validated image filenames belonging to 2 classes.\n",
            "Found 44005 validated image filenames belonging to 2 classes.\n",
            "Found 57458 validated image filenames.\n"
          ],
          "name": "stdout"
        }
      ]
    },
    {
      "cell_type": "markdown",
      "metadata": {
        "id": "KCsEcBjk-lTB",
        "colab_type": "text"
      },
      "source": [
        "## Make a baseline model:"
      ]
    },
    {
      "cell_type": "code",
      "metadata": {
        "id": "aj4Yvg7MS-1e",
        "colab_type": "code",
        "outputId": "9e858c8b-ea3c-407c-fa97-7cb2a7db1703",
        "colab": {
          "base_uri": "https://localhost:8080/",
          "height": 141
        }
      },
      "source": [
        "baseline_layers = [\n",
        "    keras.layers.Conv2D(filters = 64 , kernel_size = 7, activation = \"relu\", padding = \"valid\", input_shape = [data.image_size[0], data.image_size[1], data.n_channels]), \n",
        "    keras.layers.MaxPooling2D(pool_size = 2), \n",
        "    keras.layers.Conv2D(128, 3, activation = \"relu\", padding = \"same\"), \n",
        "    keras.layers.Conv2D(128, 3 , activation = \"relu\" , padding = \"same\"), \n",
        "    keras.layers.MaxPooling2D(2), \n",
        "    keras.layers.Conv2D(256, 3 , activation = \"relu\" , padding = \"same\"), \n",
        "    keras.layers.Conv2D(256, 3 , activation = \"relu\" , padding = \"same\"),   \n",
        "    keras.layers.MaxPooling2D(2), \n",
        "    keras.layers.Flatten(), \n",
        "    keras.layers.Dense(128, activation = \"relu\"), \n",
        "    keras.layers.Dropout(0.5), \n",
        "    keras.layers.Dense(64, activation = \"relu\"), \n",
        "    keras.layers.Dropout(0.5), \n",
        "    keras.layers.Dense(1, activation = \"sigmoid\")\n",
        "] \n",
        "baseline_model = keras.models.Sequential(baseline_layers, name = 'baseline')\n",
        "#baseline_model_adaptive = keras.models.Sequential(baseline_layers, name = 'baseline_adaptive')\n",
        "\n",
        "baseline_model.compile(loss = keras.losses.binary_crossentropy, \n",
        "                       optimizer = keras.optimizers.SGD(lr = 0.001), \n",
        "                       metrics = [tf.keras.metrics.AUC()])\n",
        "\n",
        "# Use the Adam adaptive learning rate optimization algorithm:\n",
        "#baseline_model_adaptive.compile(keras.optimizers.Adam(0.01), loss = keras.losses.binary_crossentropy, \n",
        "                       #optimizer = keras.optimizers.SGD(lr = 0.001), \n",
        "#                       metrics = [tf.keras.metrics.AUC()])\n"
      ],
      "execution_count": 9,
      "outputs": [
        {
          "output_type": "stream",
          "text": [
            "WARNING:tensorflow:From /usr/local/lib/python3.6/dist-packages/tensorflow_core/python/ops/resource_variable_ops.py:1630: calling BaseResourceVariable.__init__ (from tensorflow.python.ops.resource_variable_ops) with constraint is deprecated and will be removed in a future version.\n",
            "Instructions for updating:\n",
            "If using Keras pass *_constraint arguments to layers.\n",
            "WARNING:tensorflow:From /usr/local/lib/python3.6/dist-packages/tensorflow_core/python/ops/nn_impl.py:183: where (from tensorflow.python.ops.array_ops) is deprecated and will be removed in a future version.\n",
            "Instructions for updating:\n",
            "Use tf.where in 2.0, which has the same broadcast rule as np.where\n"
          ],
          "name": "stdout"
        }
      ]
    },
    {
      "cell_type": "code",
      "metadata": {
        "id": "4YGP6qy7mKAj",
        "colab_type": "code",
        "outputId": "1902aaec-76fd-401d-92ba-47d5aa8682e9",
        "colab": {
          "base_uri": "https://localhost:8080/",
          "height": 639
        }
      },
      "source": [
        "baseline_model.summary()"
      ],
      "execution_count": 10,
      "outputs": [
        {
          "output_type": "stream",
          "text": [
            "Model: \"baseline\"\n",
            "_________________________________________________________________\n",
            "Layer (type)                 Output Shape              Param #   \n",
            "=================================================================\n",
            "conv2d (Conv2D)              (None, 90, 90, 64)        9472      \n",
            "_________________________________________________________________\n",
            "max_pooling2d (MaxPooling2D) (None, 45, 45, 64)        0         \n",
            "_________________________________________________________________\n",
            "conv2d_1 (Conv2D)            (None, 45, 45, 128)       73856     \n",
            "_________________________________________________________________\n",
            "conv2d_2 (Conv2D)            (None, 45, 45, 128)       147584    \n",
            "_________________________________________________________________\n",
            "max_pooling2d_1 (MaxPooling2 (None, 22, 22, 128)       0         \n",
            "_________________________________________________________________\n",
            "conv2d_3 (Conv2D)            (None, 22, 22, 256)       295168    \n",
            "_________________________________________________________________\n",
            "conv2d_4 (Conv2D)            (None, 22, 22, 256)       590080    \n",
            "_________________________________________________________________\n",
            "max_pooling2d_2 (MaxPooling2 (None, 11, 11, 256)       0         \n",
            "_________________________________________________________________\n",
            "flatten (Flatten)            (None, 30976)             0         \n",
            "_________________________________________________________________\n",
            "dense (Dense)                (None, 128)               3965056   \n",
            "_________________________________________________________________\n",
            "dropout (Dropout)            (None, 128)               0         \n",
            "_________________________________________________________________\n",
            "dense_1 (Dense)              (None, 64)                8256      \n",
            "_________________________________________________________________\n",
            "dropout_1 (Dropout)          (None, 64)                0         \n",
            "_________________________________________________________________\n",
            "dense_2 (Dense)              (None, 1)                 65        \n",
            "=================================================================\n",
            "Total params: 5,089,537\n",
            "Trainable params: 5,089,537\n",
            "Non-trainable params: 0\n",
            "_________________________________________________________________\n"
          ],
          "name": "stdout"
        }
      ]
    },
    {
      "cell_type": "code",
      "metadata": {
        "id": "6w-_6VgAsbUB",
        "colab_type": "code",
        "colab": {}
      },
      "source": [
        "models = ModelContainer()\n",
        "models.add_model(baseline_model)"
      ],
      "execution_count": 0,
      "outputs": []
    },
    {
      "cell_type": "code",
      "metadata": {
        "id": "9Tzo6QmZo9Y1",
        "colab_type": "code",
        "colab": {
          "base_uri": "https://localhost:8080/",
          "height": 795
        },
        "outputId": "563f9806-516c-40bf-fb90-2ff6a95b615c"
      },
      "source": [
        "models.train_model(data, 'baseline')"
      ],
      "execution_count": 12,
      "outputs": [
        {
          "output_type": "stream",
          "text": [
            "Epoch 1/15\n",
            "2750/2751 [============================>.] - ETA: 0s - loss: 0.6547 - auc: 0.6227Epoch 1/15\n",
            "2751/2751 [==============================] - 503s 183ms/step - loss: 0.6547 - auc: 0.6228 - val_loss: 0.5865 - val_auc: 0.8166\n",
            "Epoch 2/15\n",
            "2750/2751 [============================>.] - ETA: 0s - loss: 0.5458 - auc: 0.7952Epoch 1/15\n",
            "2751/2751 [==============================] - 497s 181ms/step - loss: 0.5458 - auc: 0.7952 - val_loss: 0.4904 - val_auc: 0.8464\n",
            "Epoch 3/15\n",
            "2750/2751 [============================>.] - ETA: 0s - loss: 0.4997 - auc: 0.8308Epoch 1/15\n",
            "2751/2751 [==============================] - 481s 175ms/step - loss: 0.4997 - auc: 0.8308 - val_loss: 0.4695 - val_auc: 0.8597\n",
            "Epoch 4/15\n",
            "2750/2751 [============================>.] - ETA: 0s - loss: 0.4770 - auc: 0.8476Epoch 1/15\n",
            "2751/2751 [==============================] - 500s 182ms/step - loss: 0.4770 - auc: 0.8476 - val_loss: 0.4475 - val_auc: 0.8730\n",
            "Epoch 5/15\n",
            "2750/2751 [============================>.] - ETA: 0s - loss: 0.4621 - auc: 0.8574Epoch 1/15\n",
            "2751/2751 [==============================] - 479s 174ms/step - loss: 0.4621 - auc: 0.8574 - val_loss: 0.4581 - val_auc: 0.8783\n",
            "Epoch 6/15\n",
            "2750/2751 [============================>.] - ETA: 0s - loss: 0.4514 - auc: 0.8647Epoch 1/15\n",
            "2751/2751 [==============================] - 480s 174ms/step - loss: 0.4514 - auc: 0.8647 - val_loss: 0.4311 - val_auc: 0.8831\n",
            "Epoch 7/15\n",
            "2750/2751 [============================>.] - ETA: 0s - loss: 0.4405 - auc: 0.8716Epoch 1/15\n",
            "2751/2751 [==============================] - 479s 174ms/step - loss: 0.4405 - auc: 0.8716 - val_loss: 0.4239 - val_auc: 0.8855\n",
            "Epoch 8/15\n",
            "2750/2751 [============================>.] - ETA: 0s - loss: 0.4318 - auc: 0.8770Epoch 1/15\n",
            "2751/2751 [==============================] - 480s 175ms/step - loss: 0.4319 - auc: 0.8770 - val_loss: 0.4029 - val_auc: 0.8928\n",
            "Epoch 9/15\n",
            "2750/2751 [============================>.] - ETA: 0s - loss: 0.4232 - auc: 0.8821Epoch 1/15\n",
            "2751/2751 [==============================] - 481s 175ms/step - loss: 0.4232 - auc: 0.8821 - val_loss: 0.3914 - val_auc: 0.8998\n",
            "Epoch 10/15\n",
            "2750/2751 [============================>.] - ETA: 0s - loss: 0.4170 - auc: 0.8861Epoch 1/15\n",
            "2751/2751 [==============================] - 480s 174ms/step - loss: 0.4170 - auc: 0.8861 - val_loss: 0.3853 - val_auc: 0.9033\n",
            "Epoch 11/15\n",
            "2750/2751 [============================>.] - ETA: 0s - loss: 0.4114 - auc: 0.8893Epoch 1/15\n",
            "2751/2751 [==============================] - 481s 175ms/step - loss: 0.4114 - auc: 0.8894 - val_loss: 0.3882 - val_auc: 0.9010\n",
            "Epoch 12/15\n",
            "2750/2751 [============================>.] - ETA: 0s - loss: 0.4063 - auc: 0.8921Epoch 1/15\n",
            "2751/2751 [==============================] - 480s 175ms/step - loss: 0.4063 - auc: 0.8921 - val_loss: 0.3756 - val_auc: 0.9078\n",
            "Epoch 13/15\n",
            "2750/2751 [============================>.] - ETA: 0s - loss: 0.4014 - auc: 0.8950Epoch 1/15\n",
            "2751/2751 [==============================] - 480s 174ms/step - loss: 0.4014 - auc: 0.8950 - val_loss: 0.3828 - val_auc: 0.9057\n",
            "Epoch 14/15\n",
            "2750/2751 [============================>.] - ETA: 0s - loss: 0.3978 - auc: 0.8970Epoch 1/15\n",
            "2751/2751 [==============================] - 479s 174ms/step - loss: 0.3978 - auc: 0.8970 - val_loss: 0.3716 - val_auc: 0.9133\n",
            "Epoch 15/15\n",
            "2750/2751 [============================>.] - ETA: 0s - loss: 0.3943 - auc: 0.8989Epoch 1/15\n",
            "2751/2751 [==============================] - 480s 175ms/step - loss: 0.3942 - auc: 0.8989 - val_loss: 0.3740 - val_auc: 0.9102\n"
          ],
          "name": "stdout"
        }
      ]
    },
    {
      "cell_type": "code",
      "metadata": {
        "id": "OB8WKs882Lvt",
        "colab_type": "code",
        "colab": {}
      },
      "source": [
        "models.save_model('baseline')"
      ],
      "execution_count": 0,
      "outputs": []
    },
    {
      "cell_type": "markdown",
      "metadata": {
        "id": "ZOcJW5DM1Ksp",
        "colab_type": "text"
      },
      "source": [
        "### Let's see how Marazzi's model compares to the baseline:"
      ]
    },
    {
      "cell_type": "code",
      "metadata": {
        "id": "JmWSoEmO0H8E",
        "colab_type": "code",
        "colab": {}
      },
      "source": [
        "kernel_size = (3,3)\n",
        "pool_size= (2,2)\n",
        "first_filters = 32\n",
        "second_filters = 64\n",
        "third_filters = 128\n",
        "\n",
        "dropout_conv = 0.3\n",
        "dropout_dense = 0.5\n",
        "\n",
        "marazzi_layers = [\n",
        "    keras.layers.Conv2D(first_filters, kernel_size, activation = 'relu', input_shape = [data.image_size[0], data.image_size[1], data.n_channels]),\n",
        "    keras.layers.Conv2D(first_filters, kernel_size, use_bias = False),\n",
        "    keras.layers.BatchNormalization(),\n",
        "    keras.layers.Activation(\"relu\"),\n",
        "    keras.layers.MaxPool2D(pool_size = pool_size),\n",
        "    keras.layers.Dropout(dropout_conv),\n",
        "\n",
        "    keras.layers.Conv2D(second_filters, kernel_size, use_bias=False),\n",
        "    keras.layers.BatchNormalization(),\n",
        "    keras.layers.Activation(\"relu\"),\n",
        "    keras.layers.Conv2D(second_filters, kernel_size, use_bias=False),\n",
        "    keras.layers.BatchNormalization(),\n",
        "    keras.layers.Activation(\"relu\"),\n",
        "    keras.layers.MaxPool2D(pool_size = pool_size),\n",
        "    keras.layers.Dropout(dropout_conv),\n",
        "\n",
        "    keras.layers.Conv2D(third_filters, kernel_size, use_bias=False),\n",
        "    keras.layers.BatchNormalization(),\n",
        "    keras.layers.Activation(\"relu\"),\n",
        "    keras.layers.Conv2D(third_filters, kernel_size, use_bias=False),\n",
        "    keras.layers.BatchNormalization(),\n",
        "    keras.layers.Activation(\"relu\"),\n",
        "    keras.layers.MaxPool2D(pool_size = pool_size),\n",
        "    keras.layers.Dropout(dropout_conv),\n",
        "\n",
        "    keras.layers.Flatten(),\n",
        "    keras.layers.Dense(256, use_bias=False),\n",
        "    keras.layers.BatchNormalization(),\n",
        "    keras.layers.Activation(\"relu\"),\n",
        "    keras.layers.Dropout(dropout_dense),\n",
        "    keras.layers.Dense(1, activation = \"sigmoid\"),\n",
        "]\n",
        "marazzi_model = keras.models.Sequential(marazzi_layers, name = 'marazzi')\n",
        "\n",
        "marazzi_model.compile(keras.optimizers.Adam(0.01), \n",
        "                      loss = keras.losses.binary_crossentropy, \n",
        "                      # optimizer = keras.optimizers.SGD(lr = 0.001), \n",
        "                       metrics = ['accuracy']) #[tf.keras.metrics.AUC()])\n"
      ],
      "execution_count": 0,
      "outputs": []
    },
    {
      "cell_type": "code",
      "metadata": {
        "id": "X9umfBnXkXjT",
        "colab_type": "code",
        "colab": {
          "base_uri": "https://localhost:8080/",
          "height": 1000
        },
        "outputId": "16df8c5c-e0d7-464d-ceb0-e771a3b0445b"
      },
      "source": [
        "marazzi_model.summary()"
      ],
      "execution_count": 15,
      "outputs": [
        {
          "output_type": "stream",
          "text": [
            "Model: \"marazzi\"\n",
            "_________________________________________________________________\n",
            "Layer (type)                 Output Shape              Param #   \n",
            "=================================================================\n",
            "conv2d_5 (Conv2D)            (None, 94, 94, 32)        896       \n",
            "_________________________________________________________________\n",
            "conv2d_6 (Conv2D)            (None, 92, 92, 32)        9216      \n",
            "_________________________________________________________________\n",
            "batch_normalization (BatchNo (None, 92, 92, 32)        128       \n",
            "_________________________________________________________________\n",
            "activation (Activation)      (None, 92, 92, 32)        0         \n",
            "_________________________________________________________________\n",
            "max_pooling2d_3 (MaxPooling2 (None, 46, 46, 32)        0         \n",
            "_________________________________________________________________\n",
            "dropout_2 (Dropout)          (None, 46, 46, 32)        0         \n",
            "_________________________________________________________________\n",
            "conv2d_7 (Conv2D)            (None, 44, 44, 64)        18432     \n",
            "_________________________________________________________________\n",
            "batch_normalization_1 (Batch (None, 44, 44, 64)        256       \n",
            "_________________________________________________________________\n",
            "activation_1 (Activation)    (None, 44, 44, 64)        0         \n",
            "_________________________________________________________________\n",
            "conv2d_8 (Conv2D)            (None, 42, 42, 64)        36864     \n",
            "_________________________________________________________________\n",
            "batch_normalization_2 (Batch (None, 42, 42, 64)        256       \n",
            "_________________________________________________________________\n",
            "activation_2 (Activation)    (None, 42, 42, 64)        0         \n",
            "_________________________________________________________________\n",
            "max_pooling2d_4 (MaxPooling2 (None, 21, 21, 64)        0         \n",
            "_________________________________________________________________\n",
            "dropout_3 (Dropout)          (None, 21, 21, 64)        0         \n",
            "_________________________________________________________________\n",
            "conv2d_9 (Conv2D)            (None, 19, 19, 128)       73728     \n",
            "_________________________________________________________________\n",
            "batch_normalization_3 (Batch (None, 19, 19, 128)       512       \n",
            "_________________________________________________________________\n",
            "activation_3 (Activation)    (None, 19, 19, 128)       0         \n",
            "_________________________________________________________________\n",
            "conv2d_10 (Conv2D)           (None, 17, 17, 128)       147456    \n",
            "_________________________________________________________________\n",
            "batch_normalization_4 (Batch (None, 17, 17, 128)       512       \n",
            "_________________________________________________________________\n",
            "activation_4 (Activation)    (None, 17, 17, 128)       0         \n",
            "_________________________________________________________________\n",
            "max_pooling2d_5 (MaxPooling2 (None, 8, 8, 128)         0         \n",
            "_________________________________________________________________\n",
            "dropout_4 (Dropout)          (None, 8, 8, 128)         0         \n",
            "_________________________________________________________________\n",
            "flatten_1 (Flatten)          (None, 8192)              0         \n",
            "_________________________________________________________________\n",
            "dense_3 (Dense)              (None, 256)               2097152   \n",
            "_________________________________________________________________\n",
            "batch_normalization_5 (Batch (None, 256)               1024      \n",
            "_________________________________________________________________\n",
            "activation_5 (Activation)    (None, 256)               0         \n",
            "_________________________________________________________________\n",
            "dropout_5 (Dropout)          (None, 256)               0         \n",
            "_________________________________________________________________\n",
            "dense_4 (Dense)              (None, 1)                 257       \n",
            "=================================================================\n",
            "Total params: 2,386,689\n",
            "Trainable params: 2,385,345\n",
            "Non-trainable params: 1,344\n",
            "_________________________________________________________________\n"
          ],
          "name": "stdout"
        }
      ]
    },
    {
      "cell_type": "markdown",
      "metadata": {
        "id": "SoEUkVB4wjQr",
        "colab_type": "text"
      },
      "source": [
        "* His model has a lot less parameters than the baseline model (~2 million compared to ~5 million)"
      ]
    },
    {
      "cell_type": "code",
      "metadata": {
        "trusted": true,
        "id": "U_blOQlQ3sA2",
        "colab_type": "code",
        "colab": {}
      },
      "source": [
        "models.add_model(marazzi_model)"
      ],
      "execution_count": 0,
      "outputs": []
    },
    {
      "cell_type": "code",
      "metadata": {
        "trusted": true,
        "id": "cckhsFCg3sA7",
        "colab_type": "code",
        "outputId": "ca9c7d12-d62a-4b31-8e04-efa5b7547d02",
        "colab": {
          "base_uri": "https://localhost:8080/",
          "height": 795
        }
      },
      "source": [
        "models.train_model(data, 'marazzi')"
      ],
      "execution_count": 17,
      "outputs": [
        {
          "output_type": "stream",
          "text": [
            "Epoch 1/15\n",
            "2750/2751 [============================>.] - ETA: 0s - loss: 0.3981 - acc: 0.8269Epoch 1/15\n",
            "2751/2751 [==============================] - 340s 124ms/step - loss: 0.3982 - acc: 0.8269 - val_loss: 0.9667 - val_acc: 0.6420\n",
            "Epoch 2/15\n",
            "2750/2751 [============================>.] - ETA: 0s - loss: 0.3133 - acc: 0.8709Epoch 1/15\n",
            "2751/2751 [==============================] - 339s 123ms/step - loss: 0.3133 - acc: 0.8710 - val_loss: 1.7519 - val_acc: 0.6793\n",
            "Epoch 3/15\n",
            "2750/2751 [============================>.] - ETA: 0s - loss: 0.2648 - acc: 0.8961Epoch 1/15\n",
            "2751/2751 [==============================] - 338s 123ms/step - loss: 0.2648 - acc: 0.8961 - val_loss: 0.7305 - val_acc: 0.8083\n",
            "Epoch 4/15\n",
            "2750/2751 [============================>.] - ETA: 0s - loss: 0.2387 - acc: 0.9076Epoch 1/15\n",
            "2751/2751 [==============================] - 339s 123ms/step - loss: 0.2387 - acc: 0.9076 - val_loss: 1.9041 - val_acc: 0.7318\n",
            "Epoch 5/15\n",
            "2750/2751 [============================>.] - ETA: 0s - loss: 0.2261 - acc: 0.9138Epoch 1/15\n",
            "2751/2751 [==============================] - 339s 123ms/step - loss: 0.2261 - acc: 0.9138 - val_loss: 0.5841 - val_acc: 0.7810\n",
            "Epoch 6/15\n",
            "2750/2751 [============================>.] - ETA: 0s - loss: 0.2163 - acc: 0.9177Epoch 1/15\n",
            "2751/2751 [==============================] - 337s 123ms/step - loss: 0.2163 - acc: 0.9177 - val_loss: 0.4056 - val_acc: 0.8592\n",
            "Epoch 7/15\n",
            "2750/2751 [============================>.] - ETA: 0s - loss: 0.2066 - acc: 0.9224Epoch 1/15\n",
            "2751/2751 [==============================] - 338s 123ms/step - loss: 0.2066 - acc: 0.9224 - val_loss: 0.8467 - val_acc: 0.7877\n",
            "Epoch 8/15\n",
            "2750/2751 [============================>.] - ETA: 0s - loss: 0.1983 - acc: 0.9256Epoch 1/15\n",
            "2751/2751 [==============================] - 337s 123ms/step - loss: 0.1983 - acc: 0.9257 - val_loss: 0.3231 - val_acc: 0.8599\n",
            "Epoch 9/15\n",
            "2750/2751 [============================>.] - ETA: 0s - loss: 0.1925 - acc: 0.9285Epoch 1/15\n",
            "2751/2751 [==============================] - 338s 123ms/step - loss: 0.1924 - acc: 0.9285 - val_loss: 0.6411 - val_acc: 0.7819\n",
            "Epoch 10/15\n",
            "2750/2751 [============================>.] - ETA: 0s - loss: 0.1889 - acc: 0.9291Epoch 1/15\n",
            "2751/2751 [==============================] - 338s 123ms/step - loss: 0.1889 - acc: 0.9291 - val_loss: 0.2717 - val_acc: 0.8964\n",
            "Epoch 11/15\n",
            "2750/2751 [============================>.] - ETA: 0s - loss: 0.1848 - acc: 0.9309Epoch 1/15\n",
            "2751/2751 [==============================] - 337s 122ms/step - loss: 0.1847 - acc: 0.9310 - val_loss: 0.4950 - val_acc: 0.8137\n",
            "Epoch 12/15\n",
            "2750/2751 [============================>.] - ETA: 0s - loss: 0.1797 - acc: 0.9334Epoch 1/15\n",
            "2751/2751 [==============================] - 337s 122ms/step - loss: 0.1797 - acc: 0.9334 - val_loss: 0.3465 - val_acc: 0.8611\n",
            "Epoch 13/15\n",
            "2750/2751 [============================>.] - ETA: 0s - loss: 0.1771 - acc: 0.9336Epoch 1/15\n",
            "2751/2751 [==============================] - 339s 123ms/step - loss: 0.1770 - acc: 0.9336 - val_loss: 0.3758 - val_acc: 0.8523\n",
            "Epoch 14/15\n",
            "2750/2751 [============================>.] - ETA: 0s - loss: 0.1741 - acc: 0.9359Epoch 1/15\n",
            "2751/2751 [==============================] - 340s 124ms/step - loss: 0.1741 - acc: 0.9359 - val_loss: 0.2091 - val_acc: 0.9324\n",
            "Epoch 15/15\n",
            "2750/2751 [============================>.] - ETA: 0s - loss: 0.1712 - acc: 0.9371Epoch 1/15\n",
            "2751/2751 [==============================] - 339s 123ms/step - loss: 0.1712 - acc: 0.9371 - val_loss: 0.2586 - val_acc: 0.8915\n"
          ],
          "name": "stdout"
        }
      ]
    },
    {
      "cell_type": "code",
      "metadata": {
        "id": "FakvjT5B3Fps",
        "colab_type": "code",
        "colab": {}
      },
      "source": [
        "models.save_model('marazzi')"
      ],
      "execution_count": 0,
      "outputs": []
    },
    {
      "cell_type": "markdown",
      "metadata": {
        "id": "yzPaJZj3ui3O",
        "colab_type": "text"
      },
      "source": [
        "## Select best model:\n"
      ]
    },
    {
      "cell_type": "code",
      "metadata": {
        "id": "giKfNWlI_NGw",
        "colab_type": "code",
        "outputId": "868cadb5-3863-4995-c782-124bcae1235e",
        "colab": {
          "base_uri": "https://localhost:8080/",
          "height": 35
        }
      },
      "source": [
        "models.select_best_model()\n",
        "models.best_model_name\n"
      ],
      "execution_count": 19,
      "outputs": [
        {
          "output_type": "execute_result",
          "data": {
            "text/plain": [
              "'baseline'"
            ]
          },
          "metadata": {
            "tags": []
          },
          "execution_count": 19
        }
      ]
    },
    {
      "cell_type": "code",
      "metadata": {
        "trusted": true,
        "id": "iyLbfv_n3sA-",
        "colab_type": "code",
        "outputId": "c7b5a14c-7a0b-49dc-8267-4fecc6ae6a5d",
        "colab": {
          "base_uri": "https://localhost:8080/",
          "height": 311
        }
      },
      "source": [
        "models.print_summary()"
      ],
      "execution_count": 20,
      "outputs": [
        {
          "output_type": "stream",
          "text": [
            "\n",
            "Model Summaries:\n",
            "\n",
            "\n",
            " baseline - ROC AUC: 0.8989287\n",
            "\n",
            " baseline - Validation ROC AUC: 0.9101701\n",
            "\n",
            " marazzi - ROC AUC: 0.9371435\n",
            "\n",
            " marazzi - Validation ROC AUC: 0.89151233\n",
            "\n",
            "Best Model:\n",
            " baseline\n",
            "\n",
            "ROC AUC of Best Model\n",
            " 0.8989287\n"
          ],
          "name": "stdout"
        }
      ]
    },
    {
      "cell_type": "code",
      "metadata": {
        "id": "MTsIXYmRLtpZ",
        "colab_type": "code",
        "colab": {
          "base_uri": "https://localhost:8080/",
          "height": 35
        },
        "outputId": "f1ee41e5-54b3-4d89-d1b5-82b4f2804900"
      },
      "source": [
        "models.best_model_predict(data.validation_generator)"
      ],
      "execution_count": 22,
      "outputs": [
        {
          "output_type": "stream",
          "text": [
            "688/688 [==============================] - 46s 67ms/step\n"
          ],
          "name": "stdout"
        }
      ]
    },
    {
      "cell_type": "markdown",
      "metadata": {
        "id": "EHnttGBmtdeL",
        "colab_type": "text"
      },
      "source": [
        "This plot is courtesy of [Francesco Marazzi](https://www.kaggle.com/fmarazzi/baseline-keras-cnn-roc-fast-10min-0-925-lb):"
      ]
    },
    {
      "cell_type": "code",
      "metadata": {
        "id": "7uMoTeLg-zM_",
        "colab_type": "code",
        "colab": {
          "base_uri": "https://localhost:8080/",
          "height": 35
        },
        "outputId": "3ca00432-0328-40ae-8510-1979b0f40615"
      },
      "source": [
        "# Calc AUC of best model on validation set:\n",
        "false_pos_rate, true_pos_rate, thresholds_keras = roc_curve(data.validation_generator.classes, models.predictions)\n",
        "auc_best = auc(false_pos_rate, true_pos_rate)\n",
        "auc_best"
      ],
      "execution_count": 23,
      "outputs": [
        {
          "output_type": "execute_result",
          "data": {
            "text/plain": [
              "0.9101626206479977"
            ]
          },
          "metadata": {
            "tags": []
          },
          "execution_count": 23
        }
      ]
    },
    {
      "cell_type": "code",
      "metadata": {
        "id": "SBrL60Z3XMUr",
        "colab_type": "code",
        "outputId": "8e1c8fb8-5190-42ae-d1d8-6901b5715918",
        "colab": {
          "base_uri": "https://localhost:8080/",
          "height": 295
        }
      },
      "source": [
        "plt.figure(1)\n",
        "plt.plot([0, 1], [0, 1], 'k--')\n",
        "plt.plot(false_pos_rate, true_pos_rate, label='area = {:.3f}'.format(auc_best))\n",
        "plt.xlabel('False positive rate')\n",
        "plt.ylabel('True positive rate')\n",
        "plt.title('ROC curve')\n",
        "plt.legend(loc='best')\n",
        "plt.show()"
      ],
      "execution_count": 24,
      "outputs": [
        {
          "output_type": "display_data",
          "data": {
            "image/png": "[encoded data removed]",
            "text/plain": [
              "<Figure size 432x288 with 1 Axes>"
            ]
          },
          "metadata": {
            "tags": []
          }
        }
      ]
    },
    {
      "cell_type": "markdown",
      "metadata": {
        "id": "sevNPJk7SPv2",
        "colab_type": "text"
      },
      "source": [
        "### Submission to Kaggle:"
      ]
    },
    {
      "cell_type": "code",
      "metadata": {
        "id": "3M4SBz-4abyz",
        "colab_type": "code",
        "colab": {
          "base_uri": "https://localhost:8080/",
          "height": 35
        },
        "outputId": "d1053889-a531-4495-8f18-9ef560fd36dc"
      },
      "source": [
        "models.best_model_predict(data.test_generator)"
      ],
      "execution_count": 25,
      "outputs": [
        {
          "output_type": "stream",
          "text": [
            "57458/57458 [==============================] - 279s 5ms/step\n"
          ],
          "name": "stdout"
        }
      ]
    },
    {
      "cell_type": "code",
      "metadata": {
        "id": "vHAYXtGDSOzy",
        "colab_type": "code",
        "colab": {}
      },
      "source": [
        "# Predictions were made in the order of the test_df using the test generator:\n",
        "submission = data.test_df\n",
        "submission['label'] = models.predictions\n",
        "# Take out the extension for the submission:\n",
        "submission['id'] = submission['id'].apply(lambda x: x.split(\".\")[0])\n",
        "\n",
        "submission.to_csv(\"submission.csv\", index = False, header = True)\n"
      ],
      "execution_count": 0,
      "outputs": []
    },
    {
      "cell_type": "code",
      "metadata": {
        "id": "atWyLs5rUGc3",
        "colab_type": "code",
        "outputId": "4b32297f-4727-4539-b683-7c825f44a1d2",
        "colab": {
          "base_uri": "https://localhost:8080/",
          "height": 198
        }
      },
      "source": [
        "submission.head()"
      ],
      "execution_count": 27,
      "outputs": [
        {
          "output_type": "execute_result",
          "data": {
            "text/html": [
              "<div>\n",
              "<style scoped>\n",
              "    .dataframe tbody tr th:only-of-type {\n",
              "        vertical-align: middle;\n",
              "    }\n",
              "\n",
              "    .dataframe tbody tr th {\n",
              "        vertical-align: top;\n",
              "    }\n",
              "\n",
              "    .dataframe thead th {\n",
              "        text-align: right;\n",
              "    }\n",
              "</style>\n",
              "<table border=\"1\" class=\"dataframe\">\n",
              "  <thead>\n",
              "    <tr style=\"text-align: right;\">\n",
              "      <th></th>\n",
              "      <th>id</th>\n",
              "      <th>label</th>\n",
              "    </tr>\n",
              "  </thead>\n",
              "  <tbody>\n",
              "    <tr>\n",
              "      <th>0</th>\n",
              "      <td>1488196a7b134c564eb4cf3614a2ddbe832bf0f0</td>\n",
              "      <td>0.873165</td>\n",
              "    </tr>\n",
              "    <tr>\n",
              "      <th>1</th>\n",
              "      <td>4baed3d3546a5775f9e066fedbfd202836d08a54</td>\n",
              "      <td>0.775844</td>\n",
              "    </tr>\n",
              "    <tr>\n",
              "      <th>2</th>\n",
              "      <td>6db34bb96517d8ec61c8afe62dc276afb2583a9c</td>\n",
              "      <td>0.051992</td>\n",
              "    </tr>\n",
              "    <tr>\n",
              "      <th>3</th>\n",
              "      <td>b423741fef8e639e2ebd46786f13fad8e95d14e8</td>\n",
              "      <td>0.083153</td>\n",
              "    </tr>\n",
              "    <tr>\n",
              "      <th>4</th>\n",
              "      <td>f9d9a057d004ef05195a73b6846881ad3e383ec9</td>\n",
              "      <td>0.962275</td>\n",
              "    </tr>\n",
              "  </tbody>\n",
              "</table>\n",
              "</div>"
            ],
            "text/plain": [
              "                                         id     label\n",
              "0  1488196a7b134c564eb4cf3614a2ddbe832bf0f0  0.873165\n",
              "1  4baed3d3546a5775f9e066fedbfd202836d08a54  0.775844\n",
              "2  6db34bb96517d8ec61c8afe62dc276afb2583a9c  0.051992\n",
              "3  b423741fef8e639e2ebd46786f13fad8e95d14e8  0.083153\n",
              "4  f9d9a057d004ef05195a73b6846881ad3e383ec9  0.962275"
            ]
          },
          "metadata": {
            "tags": []
          },
          "execution_count": 27
        }
      ]
    },
    {
      "cell_type": "code",
      "metadata": {
        "id": "6mOIhYV5UH49",
        "colab_type": "code",
        "colab": {}
      },
      "source": [
        "files.download(\"submission.csv\")"
      ],
      "execution_count": 0,
      "outputs": []
    },
    {
      "cell_type": "code",
      "metadata": {
        "id": "vAw-jooyVAlr",
        "colab_type": "code",
        "outputId": "a7dc02b5-7651-455b-e689-5a5adef6754e",
        "colab": {
          "base_uri": "https://localhost:8080/",
          "height": 69
        }
      },
      "source": [
        "!kaggle competitions submit -c histopathologic-cancer-detection -f submission.csv -m \"Message\""
      ],
      "execution_count": 30,
      "outputs": [
        {
          "output_type": "stream",
          "text": [
            "Warning: Looks like you're using an outdated API Version, please consider updating (server 1.5.6 / client 1.5.4)\n",
            "100% 2.84M/2.84M [00:02<00:00, 1.31MB/s]\n",
            "Successfully submitted to Histopathologic Cancer Detection"
          ],
          "name": "stdout"
        }
      ]
    }
  ]
}