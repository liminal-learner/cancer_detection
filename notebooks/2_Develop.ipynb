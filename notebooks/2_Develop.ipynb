{
  "nbformat": 4,
  "nbformat_minor": 0,
  "metadata": {
    "kernelspec": {
      "name": "python3",
      "display_name": "Python 3"
    },
    "language_info": {
      "pygments_lexer": "ipython3",
      "nbconvert_exporter": "python",
      "version": "3.6.4",
      "file_extension": ".py",
      "codemirror_mode": {
        "name": "ipython",
        "version": 3
      },
      "name": "python",
      "mimetype": "text/x-python"
    },
    "colab": {
      "name": "2_Develop.ipynb",
      "provenance": []
    },
    "accelerator": "GPU"
  },
  "cells": [
    {
      "cell_type": "markdown",
      "metadata": {
        "id": "_wU5zOBq3sAA",
        "colab_type": "text"
      },
      "source": [
        "# Develop"
      ]
    },
    {
      "cell_type": "markdown",
      "metadata": {
        "id": "rmOXQoYO3sAF",
        "colab_type": "text"
      },
      "source": [
        "Some basics of Keras and tensorflow I have learned with the help of these notebooks: [ImageGenerator](https://www.kaggle.com/sdelecourt/cnn-with-keras), [ROC curves](https://www.kaggle.com/fmarazzi/baseline-keras-cnn-roc-fast-10min-0-925-lb)"
      ]
    },
    {
      "cell_type": "code",
      "metadata": {
        "_uuid": "d629ff2d2480ee46fbb7e2d37f6b5fab8052498a",
        "_cell_guid": "79c7e3d0-c299-4dcb-8224-4455121ee9b0",
        "trusted": true,
        "id": "ylh-gI2T3sAG",
        "colab_type": "code",
        "colab": {
          "base_uri": "https://localhost:8080/",
          "height": 35
        },
        "outputId": "18a96e46-d787-406e-de6a-06ac81690a58"
      },
      "source": [
        "import pandas as pd\n",
        "from keras.preprocessing.image import ImageDataGenerator\n",
        "from sklearn.model_selection import train_test_split\n",
        "from tensorflow import keras\n",
        "import matplotlib.pyplot as plt\n",
        "import os\n",
        "from sklearn.model_selection import cross_val_score\n",
        "import zipfile\n"
      ],
      "execution_count": 1,
      "outputs": [
        {
          "output_type": "stream",
          "text": [
            "Using TensorFlow backend.\n"
          ],
          "name": "stderr"
        }
      ]
    },
    {
      "cell_type": "code",
      "metadata": {
        "trusted": true,
        "id": "MxO_mLYc3sAN",
        "colab_type": "code",
        "colab": {}
      },
      "source": [
        "import tensorflow as tf\n",
        "config = tf.ConfigProto( device_count = {'GPU': 1 , 'CPU': 56} ) \n",
        "sess = tf.Session(config=config) \n",
        "keras.backend.set_session(sess)"
      ],
      "execution_count": 0,
      "outputs": []
    },
    {
      "cell_type": "code",
      "metadata": {
        "trusted": true,
        "id": "bh9QtnTL3sAR",
        "colab_type": "code",
        "colab": {},
        "outputId": "396f4078-e49f-46f4-8cb1-0d4f6d94844e"
      },
      "source": [
        "from tensorflow.python.client import device_lib\n",
        "print(device_lib.list_local_devices())"
      ],
      "execution_count": 0,
      "outputs": [
        {
          "output_type": "stream",
          "text": [
            "[name: \"/device:CPU:0\"\n",
            "device_type: \"CPU\"\n",
            "memory_limit: 268435456\n",
            "locality {\n",
            "}\n",
            "incarnation: 11346269693117955111\n",
            ", name: \"/device:XLA_CPU:0\"\n",
            "device_type: \"XLA_CPU\"\n",
            "memory_limit: 17179869184\n",
            "locality {\n",
            "}\n",
            "incarnation: 7354349205296020109\n",
            "physical_device_desc: \"device: XLA_CPU device\"\n",
            "]\n"
          ],
          "name": "stdout"
        }
      ]
    },
    {
      "cell_type": "code",
      "metadata": {
        "trusted": true,
        "id": "Nf2loDP53sAW",
        "colab_type": "code",
        "colab": {},
        "outputId": "eb1b1221-0f67-435d-c11f-24097c3c27fe"
      },
      "source": [
        "from keras import backend as K\n",
        "K.tensorflow_backend._get_available_gpus()"
      ],
      "execution_count": 0,
      "outputs": [
        {
          "output_type": "execute_result",
          "data": {
            "text/plain": [
              "[]"
            ]
          },
          "metadata": {
            "tags": []
          },
          "execution_count": 21
        }
      ]
    },
    {
      "cell_type": "markdown",
      "metadata": {
        "id": "i1eazHbN3sAd",
        "colab_type": "text"
      },
      "source": [
        "### Define Data class"
      ]
    },
    {
      "cell_type": "code",
      "metadata": {
        "trusted": true,
        "id": "cLKZcmij3sAe",
        "colab_type": "code",
        "colab": {}
      },
      "source": [
        "class Data:\n",
        "    def __init__(self, train_path, train_labels_path, test_path, unique_identifier, target_class_column):\n",
        "        self.train_path = train_path\n",
        "        self.train_labels_path = train_labels_path\n",
        "        self.test_path = test_path\n",
        "    \n",
        "        self.train_data_gen = ImageDataGenerator(validation_split = 0.2, \n",
        "                                                 # Fraction of images reserved for validation\n",
        "                                                rescale = 1./255 ) # Normalize\n",
        "        self.test_data_gen = ImageDataGenerator(rescale = 1./255)\n",
        "\n",
        "        self.image_size = (96, 96)\n",
        "        self.unique_identifier = 'id'\n",
        "        self.target_class_column = 'label'\n",
        "        \n",
        "        self.train_df = self._create_train_df(self.train_labels_path)\n",
        "\n",
        "# !!!\n",
        "        self.train_df = self.train_df.head(20)\n",
        "\n",
        "\n",
        "        self.test_df = self._create_test_df(self.test_path)\n",
        "        self._create_data_generators()\n",
        "        \n",
        "    def _create_train_df(self, train_labels_path):\n",
        "        train_df = self._load_data_labels(train_labels_path)\n",
        "        train_df['id'] = train_df['id'].apply(lambda x: x+\".tif\")\n",
        "        return train_df.astype({'label': 'str'})\n",
        "\n",
        "    def _create_test_df(self, test_path):\n",
        "        filenames =[]\n",
        "        for dirname, _, filename in os.walk(test_path):\n",
        "            filenames.extend(filename)\n",
        "        return pd.DataFrame({\"id\":filenames})\n",
        "\n",
        "    def _create_data_generators(self):\n",
        "        pars = {'dataframe': self.train_df, \n",
        "                'directory': self.train_path, \n",
        "                'x_col': self.unique_identifier, # filenames of images\n",
        "                'y_col': self.target_class_column, # class\n",
        "                'target_size': self.image_size,\n",
        "                'class_mode':'binary', \n",
        "                'batch_size': 64}\n",
        "\n",
        "        self.train_generator = self.train_data_gen.flow_from_dataframe(**pars, subset = 'training') # specify if validation_split is specified in ImageDataGenerator\n",
        "        self.validation_generator = self.train_data_gen.flow_from_dataframe(**pars, subset = 'validation') # specify if validation_split is specified in ImageDataGenerator\n",
        "                                                        \n",
        "        self.test_generator = self.test_data_gen.flow_from_dataframe(dataframe = self.test_df,\n",
        "                                                    directory = test_path,\n",
        "                                                    x_col = self.unique_identifier, # filename \n",
        "                                                    class_mode = None,\n",
        "                                                    target_size = self.image_size,\n",
        "                                                    batch_size = 1)\n",
        "    def _load_data_labels(self, filename):\n",
        "        return pd.read_csv(filename)"
      ],
      "execution_count": 0,
      "outputs": []
    },
    {
      "cell_type": "markdown",
      "metadata": {
        "id": "5Xw3RZx-3sAh",
        "colab_type": "text"
      },
      "source": [
        "### Define Model Container class:"
      ]
    },
    {
      "cell_type": "markdown",
      "metadata": {
        "id": "q7EZIhCSqaIW",
        "colab_type": "text"
      },
      "source": [
        "From Textbook: \"If the training set was very skewed, with some classes being overrepresented and others underrepresented, it would be useful to set the class_weight argument when calling the fit() method, which would give a larger weight to underrepresented classes and a lower weight to overrepresented classes.\""
      ]
    },
    {
      "cell_type": "code",
      "metadata": {
        "trusted": true,
        "id": "LFBXG3je3sAi",
        "colab_type": "code",
        "colab": {}
      },
      "source": [
        "class ModelContainer:\n",
        "    \n",
        "    def __init__(self, models=[]):\n",
        "        self.models = models\n",
        "        self.best_model = None\n",
        "        self.predictions = None\n",
        "        self.roc_auc = {}\n",
        "        self.val_roc_auc = {} # Validation set\n",
        "    \n",
        "    def add_model(self, model):\n",
        "        self.models.append(model)\n",
        "    \n",
        "    def score_models(self, data):\n",
        "\n",
        "        for model in self.models: # (idx, model) in enumerate(self.models):\n",
        "            # Want to keep the fitted models because will take too long to \n",
        "            # retrain once decide on the best. So keep in self.models.\n",
        "            #self.models[idx]\n",
        "\n",
        "            checkpoint_cb = keras.callbacks.ModelCheckpoint(model.name + \".h5\")\n",
        "\n",
        "            history = model.fit(data.train_generator, \n",
        "                                epochs = 15, \n",
        "                                validation_data = (data.validation_generator), \n",
        "                                #use_multiprocessing=True,\n",
        "                                callbacks = [checkpoint_cb])\n",
        "            \n",
        "            self.roc_auc[model] = history.history['binary_accuracy'][-1]\n",
        "            self.val_roc_auc[model] = history.history['val_binary_accuracy'][-1]\n",
        "\n",
        "    def save_best_model(self):\n",
        "        self.best_model = min(self.roc_auc, key=self.roc_auc.get)\n",
        "        self.best_model.save(self.best_model.name + \".h5\")\n",
        "        \n",
        "    def best_model_predict(self, data_gen):\n",
        "        self.predictions = self.best_model.predict(data_gen)\n",
        "    \n",
        "    def print_summary(self):\n",
        "        print('\\nModel Summaries:\\n')\n",
        "        for model in self.models:\n",
        "            print('\\n', model.name, '- ROC AUC:', models.roc_auc[model])\n",
        "            print('\\n', model.name, '- Validation ROC AUC:', models.val_roc_auc[model])\n",
        "\n",
        "        print('\\nBest Model:\\n', self.best_model.name)\n",
        "        print('\\nROC AUC of Best Model\\n', models.roc_auc[self.best_model])\n"
      ],
      "execution_count": 0,
      "outputs": []
    },
    {
      "cell_type": "markdown",
      "metadata": {
        "id": "piUe3YIUpyNZ",
        "colab_type": "text"
      },
      "source": [
        ""
      ]
    },
    {
      "cell_type": "markdown",
      "metadata": {
        "id": "47PukWn83sAl",
        "colab_type": "text"
      },
      "source": [
        "### Define parameters for this project & download the data from Kaggle:"
      ]
    },
    {
      "cell_type": "code",
      "metadata": {
        "id": "WmAGqj2q66m6",
        "colab_type": "code",
        "colab": {
          "resources": {
            "http://localhost:8080/nbextensions/google.colab/files.js": {
              "data": "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",
              "ok": true,
              "headers": [
                [
                  "content-type",
                  "application/javascript"
                ]
              ],
              "status": 200,
              "status_text": ""
            }
          },
          "base_uri": "https://localhost:8080/",
          "height": 72
        },
        "outputId": "5e714a0e-52e6-4102-8289-0ee4fd2be52b"
      },
      "source": [
        "# Use this to upload the kaggle.json from your local machine:\n",
        "from google.colab import files\n",
        "uploaded = files.upload()"
      ],
      "execution_count": 7,
      "outputs": [
        {
          "output_type": "display_data",
          "data": {
            "text/html": [
              "\n",
              "     <input type=\"file\" id=\"files-f56357fb-3228-4412-9db8-66c0db958785\" name=\"files[]\" multiple disabled />\n",
              "     <output id=\"result-f56357fb-3228-4412-9db8-66c0db958785\">\n",
              "      Upload widget is only available when the cell has been executed in the\n",
              "      current browser session. Please rerun this cell to enable.\n",
              "      </output>\n",
              "      <script src=\"/nbextensions/google.colab/files.js\"></script> "
            ],
            "text/plain": [
              "<IPython.core.display.HTML object>"
            ]
          },
          "metadata": {
            "tags": []
          }
        },
        {
          "output_type": "stream",
          "text": [
            "Saving kaggle.json to kaggle.json\n"
          ],
          "name": "stdout"
        }
      ]
    },
    {
      "cell_type": "code",
      "metadata": {
        "id": "l8nwQJPA6uyG",
        "colab_type": "code",
        "colab": {
          "base_uri": "https://localhost:8080/",
          "height": 259
        },
        "outputId": "7fefba34-36c5-49ab-8cae-316e03895ca9"
      },
      "source": [
        "!cp kaggle.json '/root/.kaggle/'\n",
        "!chmod 600 '/root/.kaggle/kaggle.json'\n",
        "!kaggle config set -n path -v '/content/'\n",
        "!kaggle competitions download histopathologic-cancer-detection"
      ],
      "execution_count": 9,
      "outputs": [
        {
          "output_type": "stream",
          "text": [
            "- path is now set to: /content/\n",
            "Warning: Looks like you're using an outdated API Version, please consider updating (server 1.5.6 / client 1.5.4)\n",
            "Downloading sample_submission.csv.zip to /content/competitions/histopathologic-cancer-detection\n",
            "  0% 0.00/1.33M [00:00<?, ?B/s]\n",
            "100% 1.33M/1.33M [00:00<00:00, 44.5MB/s]\n",
            "Downloading train_labels.csv.zip to /content/competitions/histopathologic-cancer-detection\n",
            "  0% 0.00/5.10M [00:00<?, ?B/s]\n",
            "100% 5.10M/5.10M [00:00<00:00, 46.9MB/s]\n",
            "Downloading test.zip to /content/competitions/histopathologic-cancer-detection\n",
            " 99% 1.29G/1.30G [00:10<00:00, 138MB/s]\n",
            "100% 1.30G/1.30G [00:10<00:00, 133MB/s]\n",
            "Downloading train.zip to /content/competitions/histopathologic-cancer-detection\n",
            "100% 4.97G/4.98G [00:54<00:00, 130MB/s]\n",
            "100% 4.98G/4.98G [00:54<00:00, 98.9MB/s]\n"
          ],
          "name": "stdout"
        }
      ]
    },
    {
      "cell_type": "code",
      "metadata": {
        "trusted": true,
        "id": "AUwDI3wO3sAm",
        "colab_type": "code",
        "colab": {}
      },
      "source": [
        "root_dir = '/content/competitions/histopathologic-cancer-detection/'\n",
        "train_path = os.path.join(root_dir, 'train/')\n",
        "test_path = os.path.join(root_dir, 'test/')\n",
        "train_labels_path = os.path.join(root_dir, 'train_labels.csv/train_labels.csv')\n",
        "\n",
        "unique_identifier = 'id'\n",
        "target_class_column = 'label'"
      ],
      "execution_count": 0,
      "outputs": []
    },
    {
      "cell_type": "code",
      "metadata": {
        "id": "8q8letY58VVF",
        "colab_type": "code",
        "colab": {}
      },
      "source": [
        "# Unzip files in all zipped directories:\n",
        "os.chdir(root_dir)\n",
        "\n",
        "for path_to_zip_file in os.listdir():\n",
        "    new_directory = os.path.splitext(path_to_zip_file)[0]\n",
        "    os.makedirs(new_directory, exist_ok=True)\n",
        "    with zipfile.ZipFile(path_to_zip_file, 'r') as zip_ref:\n",
        "      zip_ref.extractall(new_directory)\n",
        "      zip_ref.close()"
      ],
      "execution_count": 0,
      "outputs": []
    },
    {
      "cell_type": "code",
      "metadata": {
        "id": "udO03v9C8YeR",
        "colab_type": "code",
        "colab": {
          "base_uri": "https://localhost:8080/",
          "height": 173
        },
        "outputId": "0e6eefe2-169c-44e8-94b5-192a4993a762"
      },
      "source": [
        "os.chdir(root_dir)\n",
        "! ls -l | head -10"
      ],
      "execution_count": 12,
      "outputs": [
        {
          "output_type": "stream",
          "text": [
            "total 6616980\n",
            "drwxr-xr-x 2 root root       4096 Oct 17 20:25 sample_submission.csv\n",
            "-rw-r--r-- 1 root root    1394488 Oct 17 20:20 sample_submission.csv.zip\n",
            "drwxr-xr-x 2 root root    4329472 Oct 17 20:25 test\n",
            "-rw-r--r-- 1 root root 1401100547 Oct 17 20:20 test.zip\n",
            "drwxr-xr-x 2 root root   16625664 Oct 17 20:24 train\n",
            "drwxr-xr-x 2 root root       4096 Oct 17 20:25 train_labels.csv\n",
            "-rw-r--r-- 1 root root    5352900 Oct 17 20:20 train_labels.csv.zip\n",
            "-rw-r--r-- 1 root root 5346961539 Oct 17 20:21 train.zip\n"
          ],
          "name": "stdout"
        }
      ]
    },
    {
      "cell_type": "code",
      "metadata": {
        "trusted": true,
        "id": "h4g_Ma4f3sAu",
        "colab_type": "code",
        "colab": {
          "base_uri": "https://localhost:8080/",
          "height": 69
        },
        "outputId": "49802f5e-4535-4c26-f7f6-aa5289383e2e"
      },
      "source": [
        "data = Data(train_path, train_labels_path, test_path, unique_identifier, target_class_column)"
      ],
      "execution_count": 39,
      "outputs": [
        {
          "output_type": "stream",
          "text": [
            "Found 16 validated image filenames belonging to 2 classes.\n",
            "Found 4 validated image filenames belonging to 2 classes.\n",
            "Found 57458 validated image filenames.\n"
          ],
          "name": "stdout"
        }
      ]
    },
    {
      "cell_type": "markdown",
      "metadata": {
        "id": "KCsEcBjk-lTB",
        "colab_type": "text"
      },
      "source": [
        "## Make some simple models:"
      ]
    },
    {
      "cell_type": "code",
      "metadata": {
        "trusted": true,
        "id": "okBrD5IY3sAo",
        "colab_type": "code",
        "colab": {}
      },
      "source": [
        "# Baseline model:\n",
        "architect1 = [\n",
        "    keras.layers.Flatten(input_shape=[96, 96, 3]),\n",
        "    keras.layers.Dense(300, activation=\"relu\"),\n",
        "    keras.layers.Dense(100, activation=\"relu\"),\n",
        "    keras.layers.Dense(1, activation=\"sigmoid\") # Sigmoid, 1 output for binary classification\n",
        "]\n",
        "\n",
        "\n",
        "model1 = keras.models.Sequential(architect1, name = 'two_layer_MLP')\n",
        "\n",
        "##model2 = keras.models.Sequential(architect1)\n",
        "#model2.name = \n",
        "model1.compile(loss = keras.losses.binary_crossentropy, optimizer=keras.optimizers.SGD(lr=0.001), metrics =['binary_accuracy'])\n",
        "#model2.compile(loss = keras.losses.binary_crossentropy, optimizer=keras.optimizers.SGD(lr=0.003), metrics =['binary_accuracy'])\n"
      ],
      "execution_count": 0,
      "outputs": []
    },
    {
      "cell_type": "code",
      "metadata": {
        "trusted": true,
        "id": "jxiYr91g3sAr",
        "colab_type": "code",
        "colab": {},
        "outputId": "c29bc915-4bc6-42a3-f841-3d80287d535b"
      },
      "source": [
        "model1.get_config()"
      ],
      "execution_count": 0,
      "outputs": [
        {
          "output_type": "execute_result",
          "data": {
            "text/plain": [
              "{'name': 'sequential_6',\n",
              " 'layers': [{'class_name': 'Flatten',\n",
              "   'config': {'name': 'flatten_6',\n",
              "    'trainable': True,\n",
              "    'batch_input_shape': (None, 96, 96, 3),\n",
              "    'dtype': 'float32',\n",
              "    'data_format': 'channels_last'}},\n",
              "  {'class_name': 'Dense',\n",
              "   'config': {'name': 'dense_18',\n",
              "    'trainable': True,\n",
              "    'dtype': 'float32',\n",
              "    'units': 300,\n",
              "    'activation': 'relu',\n",
              "    'use_bias': True,\n",
              "    'kernel_initializer': {'class_name': 'GlorotUniform',\n",
              "     'config': {'seed': None, 'dtype': 'float32'}},\n",
              "    'bias_initializer': {'class_name': 'Zeros',\n",
              "     'config': {'dtype': 'float32'}},\n",
              "    'kernel_regularizer': None,\n",
              "    'bias_regularizer': None,\n",
              "    'activity_regularizer': None,\n",
              "    'kernel_constraint': None,\n",
              "    'bias_constraint': None}},\n",
              "  {'class_name': 'Dense',\n",
              "   'config': {'name': 'dense_19',\n",
              "    'trainable': True,\n",
              "    'dtype': 'float32',\n",
              "    'units': 100,\n",
              "    'activation': 'relu',\n",
              "    'use_bias': True,\n",
              "    'kernel_initializer': {'class_name': 'GlorotUniform',\n",
              "     'config': {'seed': None, 'dtype': 'float32'}},\n",
              "    'bias_initializer': {'class_name': 'Zeros',\n",
              "     'config': {'dtype': 'float32'}},\n",
              "    'kernel_regularizer': None,\n",
              "    'bias_regularizer': None,\n",
              "    'activity_regularizer': None,\n",
              "    'kernel_constraint': None,\n",
              "    'bias_constraint': None}},\n",
              "  {'class_name': 'Dense',\n",
              "   'config': {'name': 'dense_20',\n",
              "    'trainable': True,\n",
              "    'dtype': 'float32',\n",
              "    'units': 1,\n",
              "    'activation': 'sigmoid',\n",
              "    'use_bias': True,\n",
              "    'kernel_initializer': {'class_name': 'GlorotUniform',\n",
              "     'config': {'seed': None, 'dtype': 'float32'}},\n",
              "    'bias_initializer': {'class_name': 'Zeros',\n",
              "     'config': {'dtype': 'float32'}},\n",
              "    'kernel_regularizer': None,\n",
              "    'bias_regularizer': None,\n",
              "    'activity_regularizer': None,\n",
              "    'kernel_constraint': None,\n",
              "    'bias_constraint': None}}]}"
            ]
          },
          "metadata": {
            "tags": []
          },
          "execution_count": 34
        }
      ]
    },
    {
      "cell_type": "code",
      "metadata": {
        "id": "8QPosB_EtVYr",
        "colab_type": "code",
        "colab": {
          "base_uri": "https://localhost:8080/",
          "height": 294
        },
        "outputId": "8fb0aa12-449c-4cb7-bc99-d8efe869e776"
      },
      "source": [
        "model1.summary()"
      ],
      "execution_count": 61,
      "outputs": [
        {
          "output_type": "stream",
          "text": [
            "Model: \"two_layer_MLP\"\n",
            "_________________________________________________________________\n",
            "Layer (type)                 Output Shape              Param #   \n",
            "=================================================================\n",
            "flatten_3 (Flatten)          (None, 27648)             0         \n",
            "_________________________________________________________________\n",
            "dense_9 (Dense)              (None, 300)               8294700   \n",
            "_________________________________________________________________\n",
            "dense_10 (Dense)             (None, 100)               30100     \n",
            "_________________________________________________________________\n",
            "dense_11 (Dense)             (None, 1)                 101       \n",
            "=================================================================\n",
            "Total params: 8,324,901\n",
            "Trainable params: 8,324,901\n",
            "Non-trainable params: 0\n",
            "_________________________________________________________________\n"
          ],
          "name": "stdout"
        }
      ]
    },
    {
      "cell_type": "code",
      "metadata": {
        "trusted": true,
        "id": "U_blOQlQ3sA2",
        "colab_type": "code",
        "colab": {}
      },
      "source": [
        "models = ModelContainer()\n"
      ],
      "execution_count": 0,
      "outputs": []
    },
    {
      "cell_type": "code",
      "metadata": {
        "trusted": true,
        "id": "Pgb7ec0e3sA5",
        "colab_type": "code",
        "colab": {}
      },
      "source": [
        "models.add_model(model1)\n"
      ],
      "execution_count": 0,
      "outputs": []
    },
    {
      "cell_type": "code",
      "metadata": {
        "id": "O1vydHv3hq6I",
        "colab_type": "code",
        "colab": {}
      },
      "source": [
        "models.add_model(model2)\n"
      ],
      "execution_count": 0,
      "outputs": []
    },
    {
      "cell_type": "code",
      "metadata": {
        "trusted": true,
        "id": "cckhsFCg3sA7",
        "colab_type": "code",
        "colab": {
          "base_uri": "https://localhost:8080/",
          "height": 1000
        },
        "outputId": "fff20cfe-5f03-46a1-e8fd-f8d79f7a9745"
      },
      "source": [
        "models.score_models(data)\n",
        "models.save_best_model()\n",
        "#models.best_model_predict(data.test_generator)"
      ],
      "execution_count": 79,
      "outputs": [
        {
          "output_type": "stream",
          "text": [
            "Epoch 1/15\n",
            "Epoch 1/15\n",
            "1/1 [==============================] - 0s 6ms/step - loss: 0.5681 - binary_accuracy: 0.7500\n",
            "1/1 [==============================] - 0s 200ms/step - loss: 0.3193 - binary_accuracy: 1.0000 - val_loss: 0.5681 - val_binary_accuracy: 0.7500\n",
            "Epoch 2/15\n",
            "Epoch 1/15\n",
            "1/1 [==============================] - 0s 6ms/step - loss: 0.5696 - binary_accuracy: 0.7500\n",
            "1/1 [==============================] - 0s 169ms/step - loss: 0.3181 - binary_accuracy: 0.9375 - val_loss: 0.5696 - val_binary_accuracy: 0.7500\n",
            "Epoch 3/15\n",
            "Epoch 1/15\n",
            "1/1 [==============================] - 0s 16ms/step - loss: 0.5738 - binary_accuracy: 0.7500\n",
            "1/1 [==============================] - 0s 177ms/step - loss: 0.3156 - binary_accuracy: 1.0000 - val_loss: 0.5738 - val_binary_accuracy: 0.7500\n",
            "Epoch 4/15\n",
            "Epoch 1/15\n",
            "1/1 [==============================] - 0s 11ms/step - loss: 0.5749 - binary_accuracy: 0.7500\n",
            "1/1 [==============================] - 0s 216ms/step - loss: 0.3146 - binary_accuracy: 0.9375 - val_loss: 0.5749 - val_binary_accuracy: 0.7500\n",
            "Epoch 5/15\n",
            "Epoch 1/15\n",
            "1/1 [==============================] - 0s 6ms/step - loss: 0.5724 - binary_accuracy: 0.7500\n",
            "1/1 [==============================] - 0s 214ms/step - loss: 0.3120 - binary_accuracy: 1.0000 - val_loss: 0.5724 - val_binary_accuracy: 0.7500\n",
            "Epoch 6/15\n",
            "Epoch 1/15\n",
            "1/1 [==============================] - 0s 7ms/step - loss: 0.5714 - binary_accuracy: 0.7500\n",
            "1/1 [==============================] - 0s 207ms/step - loss: 0.3083 - binary_accuracy: 0.9375 - val_loss: 0.5714 - val_binary_accuracy: 0.7500\n",
            "Epoch 7/15\n",
            "Epoch 1/15\n",
            "1/1 [==============================] - 0s 9ms/step - loss: 0.5715 - binary_accuracy: 0.7500\n",
            "1/1 [==============================] - 0s 175ms/step - loss: 0.3048 - binary_accuracy: 1.0000 - val_loss: 0.5715 - val_binary_accuracy: 0.7500\n",
            "Epoch 8/15\n",
            "Epoch 1/15\n",
            "1/1 [==============================] - 0s 9ms/step - loss: 0.5726 - binary_accuracy: 0.7500\n",
            "1/1 [==============================] - 0s 182ms/step - loss: 0.3015 - binary_accuracy: 0.9375 - val_loss: 0.5726 - val_binary_accuracy: 0.7500\n",
            "Epoch 9/15\n",
            "Epoch 1/15\n",
            "1/1 [==============================] - 0s 16ms/step - loss: 0.5719 - binary_accuracy: 0.7500\n",
            "1/1 [==============================] - 0s 205ms/step - loss: 0.2989 - binary_accuracy: 1.0000 - val_loss: 0.5719 - val_binary_accuracy: 0.7500\n",
            "Epoch 10/15\n",
            "Epoch 1/15\n",
            "1/1 [==============================] - 0s 8ms/step - loss: 0.5742 - binary_accuracy: 0.7500\n",
            "1/1 [==============================] - 0s 194ms/step - loss: 0.2965 - binary_accuracy: 0.9375 - val_loss: 0.5742 - val_binary_accuracy: 0.7500\n",
            "Epoch 11/15\n",
            "Epoch 1/15\n",
            "1/1 [==============================] - 0s 7ms/step - loss: 0.5756 - binary_accuracy: 0.7500\n",
            "1/1 [==============================] - 0s 209ms/step - loss: 0.2943 - binary_accuracy: 1.0000 - val_loss: 0.5756 - val_binary_accuracy: 0.7500\n",
            "Epoch 12/15\n",
            "Epoch 1/15\n",
            "1/1 [==============================] - 0s 10ms/step - loss: 0.5774 - binary_accuracy: 0.7500\n",
            "1/1 [==============================] - 0s 181ms/step - loss: 0.2913 - binary_accuracy: 0.9375 - val_loss: 0.5774 - val_binary_accuracy: 0.7500\n",
            "Epoch 13/15\n",
            "Epoch 1/15\n",
            "1/1 [==============================] - 0s 7ms/step - loss: 0.5837 - binary_accuracy: 0.7500\n",
            "1/1 [==============================] - 0s 217ms/step - loss: 0.2913 - binary_accuracy: 1.0000 - val_loss: 0.5837 - val_binary_accuracy: 0.7500\n",
            "Epoch 14/15\n",
            "Epoch 1/15\n",
            "1/1 [==============================] - 0s 11ms/step - loss: 0.5826 - binary_accuracy: 0.7500\n",
            "1/1 [==============================] - 0s 188ms/step - loss: 0.2899 - binary_accuracy: 0.9375 - val_loss: 0.5826 - val_binary_accuracy: 0.7500\n",
            "Epoch 15/15\n",
            "Epoch 1/15\n",
            "1/1 [==============================] - 0s 9ms/step - loss: 0.5815 - binary_accuracy: 0.7500\n",
            "1/1 [==============================] - 0s 197ms/step - loss: 0.2875 - binary_accuracy: 1.0000 - val_loss: 0.5815 - val_binary_accuracy: 0.7500\n"
          ],
          "name": "stdout"
        }
      ]
    },
    {
      "cell_type": "code",
      "metadata": {
        "id": "qfWWP6BchwNH",
        "colab_type": "code",
        "colab": {
          "base_uri": "https://localhost:8080/",
          "height": 35
        },
        "outputId": "0d2ea98a-658f-4d9e-bd17-e311baa659ef"
      },
      "source": [
        "models.best_model.name"
      ],
      "execution_count": 67,
      "outputs": [
        {
          "output_type": "execute_result",
          "data": {
            "text/plain": [
              "'two_layer_MLP'"
            ]
          },
          "metadata": {
            "tags": []
          },
          "execution_count": 67
        }
      ]
    },
    {
      "cell_type": "code",
      "metadata": {
        "trusted": true,
        "id": "iyLbfv_n3sA-",
        "colab_type": "code",
        "colab": {
          "base_uri": "https://localhost:8080/",
          "height": 242
        },
        "outputId": "72b4cbf3-be74-48ed-f072-56d5545fde2c"
      },
      "source": [
        "models.print_summary()\n"
      ],
      "execution_count": 80,
      "outputs": [
        {
          "output_type": "stream",
          "text": [
            "\n",
            "Model Summaries:\n",
            "\n",
            "\n",
            " two_layer_MLP - ROC AUC: 1.0\n",
            "\n",
            " two_layer_MLP - Validation ROC AUC: 0.75\n",
            "\n",
            "Best Model:\n",
            " <tensorflow.python.keras.engine.sequential.Sequential object at 0x7f4871d7aa58>\n",
            "\n",
            "ROC AUC of Best Model\n",
            " 1.0\n"
          ],
          "name": "stdout"
        }
      ]
    },
    {
      "cell_type": "code",
      "metadata": {
        "trusted": true,
        "id": "Rb-nKcwe3sBC",
        "colab_type": "code",
        "colab": {
          "base_uri": "https://localhost:8080/",
          "height": 255
        },
        "outputId": "ece75ec8-4e34-4285-d718-78ebd99889cf"
      },
      "source": [
        "#!watch -n1 nvidia-smi\n",
        "alpha_vals = [0.001,0.003,0.01,0.03,0.1,0.3]\n",
        "alpha_tuning_df = pd.DataFrame({\"alpha\":alpha_vals})\n",
        "alpha_tuning_df = alpha_tuning_df.set_index('alpha')\n",
        "for alpha in alpha_vals:\n",
        "    model1.compile(loss = keras.losses.binary_crossentropy, optimizer=keras.optimizers.SGD(lr=alpha), metrics =['binary_accuracy'])\n",
        "    history = model1.fit(train_generator, epochs = 1, validation_data = (validation_generator), use_multiprocessing=False)\n",
        "    alpha_tuning_df['accuracy'].loc[alpha] = history.history['acc']\n",
        "    alpha_tuning_df['validation_accuracy'].loc[alpha] = history.history['val_acc']\n",
        "    \n",
        "    "
      ],
      "execution_count": 84,
      "outputs": [
        {
          "output_type": "error",
          "ename": "NameError",
          "evalue": "ignored",
          "traceback": [
            "\u001b[0;31m---------------------------------------------------------------------------\u001b[0m",
            "\u001b[0;31mNameError\u001b[0m                                 Traceback (most recent call last)",
            "\u001b[0;32m<ipython-input-84-48ba9ee92d25>\u001b[0m in \u001b[0;36m<module>\u001b[0;34m()\u001b[0m\n\u001b[1;32m      4\u001b[0m \u001b[0;32mfor\u001b[0m \u001b[0malpha\u001b[0m \u001b[0;32min\u001b[0m \u001b[0malpha_vals\u001b[0m\u001b[0;34m:\u001b[0m\u001b[0;34m\u001b[0m\u001b[0;34m\u001b[0m\u001b[0m\n\u001b[1;32m      5\u001b[0m     \u001b[0mmodel1\u001b[0m\u001b[0;34m.\u001b[0m\u001b[0mcompile\u001b[0m\u001b[0;34m(\u001b[0m\u001b[0mloss\u001b[0m \u001b[0;34m=\u001b[0m \u001b[0mkeras\u001b[0m\u001b[0;34m.\u001b[0m\u001b[0mlosses\u001b[0m\u001b[0;34m.\u001b[0m\u001b[0mbinary_crossentropy\u001b[0m\u001b[0;34m,\u001b[0m \u001b[0moptimizer\u001b[0m\u001b[0;34m=\u001b[0m\u001b[0mkeras\u001b[0m\u001b[0;34m.\u001b[0m\u001b[0moptimizers\u001b[0m\u001b[0;34m.\u001b[0m\u001b[0mSGD\u001b[0m\u001b[0;34m(\u001b[0m\u001b[0mlr\u001b[0m\u001b[0;34m=\u001b[0m\u001b[0malpha\u001b[0m\u001b[0;34m)\u001b[0m\u001b[0;34m,\u001b[0m \u001b[0mmetrics\u001b[0m \u001b[0;34m=\u001b[0m\u001b[0;34m[\u001b[0m\u001b[0;34m'binary_accuracy'\u001b[0m\u001b[0;34m]\u001b[0m\u001b[0;34m)\u001b[0m\u001b[0;34m\u001b[0m\u001b[0;34m\u001b[0m\u001b[0m\n\u001b[0;32m----> 6\u001b[0;31m     \u001b[0mhistory\u001b[0m \u001b[0;34m=\u001b[0m \u001b[0mmodel1\u001b[0m\u001b[0;34m.\u001b[0m\u001b[0mfit\u001b[0m\u001b[0;34m(\u001b[0m\u001b[0mtrain_generator\u001b[0m\u001b[0;34m,\u001b[0m \u001b[0mepochs\u001b[0m \u001b[0;34m=\u001b[0m \u001b[0;36m1\u001b[0m\u001b[0;34m,\u001b[0m \u001b[0mvalidation_data\u001b[0m \u001b[0;34m=\u001b[0m \u001b[0;34m(\u001b[0m\u001b[0mvalidation_generator\u001b[0m\u001b[0;34m)\u001b[0m\u001b[0;34m,\u001b[0m \u001b[0muse_multiprocessing\u001b[0m\u001b[0;34m=\u001b[0m\u001b[0;32mFalse\u001b[0m\u001b[0;34m)\u001b[0m\u001b[0;34m\u001b[0m\u001b[0;34m\u001b[0m\u001b[0m\n\u001b[0m\u001b[1;32m      7\u001b[0m     \u001b[0malpha_tuning_df\u001b[0m\u001b[0;34m[\u001b[0m\u001b[0;34m'accuracy'\u001b[0m\u001b[0;34m]\u001b[0m\u001b[0;34m.\u001b[0m\u001b[0mloc\u001b[0m\u001b[0;34m[\u001b[0m\u001b[0malpha\u001b[0m\u001b[0;34m]\u001b[0m \u001b[0;34m=\u001b[0m \u001b[0mhistory\u001b[0m\u001b[0;34m.\u001b[0m\u001b[0mhistory\u001b[0m\u001b[0;34m[\u001b[0m\u001b[0;34m'acc'\u001b[0m\u001b[0;34m]\u001b[0m\u001b[0;34m\u001b[0m\u001b[0;34m\u001b[0m\u001b[0m\n\u001b[1;32m      8\u001b[0m     \u001b[0malpha_tuning_df\u001b[0m\u001b[0;34m[\u001b[0m\u001b[0;34m'validation_accuracy'\u001b[0m\u001b[0;34m]\u001b[0m\u001b[0;34m.\u001b[0m\u001b[0mloc\u001b[0m\u001b[0;34m[\u001b[0m\u001b[0malpha\u001b[0m\u001b[0;34m]\u001b[0m \u001b[0;34m=\u001b[0m \u001b[0mhistory\u001b[0m\u001b[0;34m.\u001b[0m\u001b[0mhistory\u001b[0m\u001b[0;34m[\u001b[0m\u001b[0;34m'val_acc'\u001b[0m\u001b[0;34m]\u001b[0m\u001b[0;34m\u001b[0m\u001b[0;34m\u001b[0m\u001b[0m\n",
            "\u001b[0;31mNameError\u001b[0m: name 'train_generator' is not defined"
          ]
        }
      ]
    },
    {
      "cell_type": "code",
      "metadata": {
        "trusted": true,
        "id": "wwAU8_IQ3sBK",
        "colab_type": "code",
        "colab": {}
      },
      "source": [
        "# Learning Curve\n",
        "pd.DataFrame(history.history).plot(figsize=(8, 5))\n",
        "plt.grid(True)\n",
        "plt.gca().set_ylim(0, 1) # set the vertical range to [0-1]\n",
        "plt.show()"
      ],
      "execution_count": 0,
      "outputs": []
    },
    {
      "cell_type": "code",
      "metadata": {
        "trusted": true,
        "id": "ITh66jXU3sBQ",
        "colab_type": "code",
        "colab": {}
      },
      "source": [
        "y = model.predict(test_generator)"
      ],
      "execution_count": 0,
      "outputs": []
    }
  ]
}