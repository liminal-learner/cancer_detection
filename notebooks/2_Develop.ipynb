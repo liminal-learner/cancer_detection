{
  "nbformat": 4,
  "nbformat_minor": 0,
  "metadata": {
    "kernelspec": {
      "name": "python3",
      "display_name": "Python 3"
    },
    "language_info": {
      "pygments_lexer": "ipython3",
      "nbconvert_exporter": "python",
      "version": "3.6.4",
      "file_extension": ".py",
      "codemirror_mode": {
        "name": "ipython",
        "version": 3
      },
      "name": "python",
      "mimetype": "text/x-python"
    },
    "colab": {
      "name": "2_Develop.ipynb",
      "provenance": []
    },
    "accelerator": "GPU"
  },
  "cells": [
    {
      "cell_type": "markdown",
      "metadata": {
        "id": "_wU5zOBq3sAA",
        "colab_type": "text"
      },
      "source": [
        "# Develop"
      ]
    },
    {
      "cell_type": "markdown",
      "metadata": {
        "id": "rmOXQoYO3sAF",
        "colab_type": "text"
      },
      "source": [
        "Some basics of Keras and tensorflow I have learned with the help of these notebooks: [ImageGenerator](https://www.kaggle.com/sdelecourt/cnn-with-keras), [ROC curves](https://www.kaggle.com/fmarazzi/baseline-keras-cnn-roc-fast-10min-0-925-lb)"
      ]
    },
    {
      "cell_type": "code",
      "metadata": {
        "_uuid": "d629ff2d2480ee46fbb7e2d37f6b5fab8052498a",
        "_cell_guid": "79c7e3d0-c299-4dcb-8224-4455121ee9b0",
        "trusted": true,
        "id": "ylh-gI2T3sAG",
        "colab_type": "code",
        "colab": {}
      },
      "source": [
        "import pandas as pd\n",
        "from keras.preprocessing.image import ImageDataGenerator\n",
        "from sklearn.model_selection import train_test_split\n",
        "from sklearn.metrics import roc_curve, auc, roc_auc_score\n",
        "from tensorflow import keras\n",
        "import matplotlib.pyplot as plt\n",
        "import os\n",
        "from sklearn.model_selection import cross_val_score\n",
        "import zipfile\n",
        "from google.colab import files"
      ],
      "execution_count": 0,
      "outputs": []
    },
    {
      "cell_type": "markdown",
      "metadata": {
        "id": "i1eazHbN3sAd",
        "colab_type": "text"
      },
      "source": [
        "### Define Data class"
      ]
    },
    {
      "cell_type": "code",
      "metadata": {
        "trusted": true,
        "id": "cLKZcmij3sAe",
        "colab_type": "code",
        "colab": {}
      },
      "source": [
        "class Data:\n",
        "    def __init__(self, train_path, train_labels_path, test_path, unique_identifier, target_class_column):\n",
        "        self.train_path = train_path\n",
        "        self.train_labels_path = train_labels_path\n",
        "        self.test_path = test_path\n",
        "    \n",
        "        self.train_data_gen = ImageDataGenerator(validation_split = 0.2, \n",
        "                                                 # Fraction of images reserved for validation\n",
        "                                                rescale = 1./255 ) # Normalize\n",
        "        self.test_data_gen = ImageDataGenerator(rescale = 1./255)\n",
        "\n",
        "        self.image_size = (96, 96)\n",
        "        self.n_channels = 3\n",
        "        self.unique_identifier = 'id'\n",
        "        self.target_class_column = 'label'\n",
        "        \n",
        "        self.train_df = self._create_train_df(self.train_labels_path)\n",
        "        \n",
        "        self.test_df = self._create_test_df(self.test_path)\n",
        "        self._create_data_generators()\n",
        "        \n",
        "    def _create_train_df(self, train_labels_path):\n",
        "        train_df = self._load_target_labels(train_labels_path)\n",
        "        train_df['id'] = train_df['id'].apply(lambda x: x+\".tif\")\n",
        "        return train_df.astype({'label': 'str'})\n",
        "\n",
        "    def _create_test_df(self, test_path):\n",
        "        filenames =[]\n",
        "        for dirname, _, filename in os.walk(test_path):\n",
        "            filenames.extend(filename)\n",
        "        return pd.DataFrame({\"id\":filenames})\n",
        "\n",
        "    def _create_data_generators(self):\n",
        "        pars = {'dataframe': self.train_df, \n",
        "                'directory': self.train_path, \n",
        "                'x_col': self.unique_identifier, # filenames of images\n",
        "                'y_col': self.target_class_column, # class\n",
        "                'target_size': self.image_size,\n",
        "                'class_mode':'binary', \n",
        "                'batch_size': 64}\n",
        "\n",
        "        self.train_generator = self.train_data_gen.flow_from_dataframe(**pars, subset = 'training') # specify if validation_split is specified in ImageDataGenerator\n",
        "        self.validation_generator = self.train_data_gen.flow_from_dataframe(**pars, subset = 'validation') # specify if validation_split is specified in ImageDataGenerator\n",
        "                                                        \n",
        "        self.test_generator = self.test_data_gen.flow_from_dataframe(dataframe = self.test_df,\n",
        "                                                    directory = test_path,\n",
        "                                                    x_col = self.unique_identifier, # filename \n",
        "                                                    class_mode = None,\n",
        "                                                    target_size = self.image_size,\n",
        "                                                    batch_size = 1)\n",
        "    def _load_target_labels(self, filename):\n",
        "        return pd.read_csv(filename)"
      ],
      "execution_count": 0,
      "outputs": []
    },
    {
      "cell_type": "markdown",
      "metadata": {
        "id": "5Xw3RZx-3sAh",
        "colab_type": "text"
      },
      "source": [
        "### Define Model Container class:"
      ]
    },
    {
      "cell_type": "code",
      "metadata": {
        "trusted": true,
        "id": "LFBXG3je3sAi",
        "colab_type": "code",
        "colab": {}
      },
      "source": [
        "class CheckpointDownloadCallback(keras.callbacks.Callback):    \n",
        "  def on_epoch_end(self, epoch, logs):\n",
        "    filename = self.model.name + \".h5\"\n",
        "    print(filename)\n",
        "    files.download(filename)  #Download from colab to local.\n",
        "\n",
        "class ModelContainer:\n",
        "    \n",
        "    def __init__(self, models=[]):\n",
        "        self.models = {}\n",
        "        [self.add_model(model) for model in models]\n",
        "\n",
        "        self.best_model_name = None\n",
        "        self.predictions = None\n",
        "        self.roc_auc = {}\n",
        "        self.val_roc_auc = {} # Validation set\n",
        "    \n",
        "    def add_model(self, model):\n",
        "        self.models[model.name] = model\n",
        "    \n",
        "    def train_model(self, data, model_name):\n",
        "        # Do this one at a time since training these models takes considerable time\n",
        "       \n",
        "        model = self.models[model_name]\n",
        "\n",
        "        checkpoint_cb = keras.callbacks.ModelCheckpoint(model.name + \".h5\")\n",
        "        #download_model_cb = CheckpointDownloadCallback()\n",
        "        early_stopping_cb = keras.callbacks.EarlyStopping(patience=10, restore_best_weights=True)\n",
        "\n",
        "        history = model.fit(data.train_generator, \n",
        "                            epochs = 15, \n",
        "                            validation_data = (data.validation_generator), \n",
        "                            #use_multiprocessing=True,\n",
        "                            callbacks = [checkpoint_cb, early_stopping_cb])\n",
        " \n",
        "        self.accuracy[model.name] = history.history['binary_accuracy'][-1]\n",
        "        self.val_accuracy[model.name] = history.history['val_binary_accuracy'][-1]\n",
        "\n",
        "    def select_best_model(self):\n",
        "        # Selects and saves the best model. \n",
        "        self.best_model_name = min(self.roc_auc, key=self.roc_auc.get)\n",
        "        # Save to file:\n",
        "        self.models[self.best_model_name].save(self.best_model_name + \".h5\")\n",
        "        \n",
        "    def best_model_predict(self, data_gen):\n",
        "        self.predictions = self.models[self.best_model_name].predict(data_gen)\n",
        "    \n",
        "    def print_summary(self):\n",
        "        print('\\nModel Summaries:\\n')\n",
        "        for model in self.models:\n",
        "            print('\\n', model.name, '- Binary Accuracy:', models.accuracy[model])\n",
        "            print('\\n', model.name, '- Binary Validation Accuracy:', models.val_accuracy[model])\n",
        "\n",
        "        print('\\nBest Model:\\n', self.best_model_name)\n",
        "        print('\\nROC AUC of Best Model\\n', models.roc_auc[self.best_model_name])\n"
      ],
      "execution_count": 0,
      "outputs": []
    },
    {
      "cell_type": "markdown",
      "metadata": {
        "id": "47PukWn83sAl",
        "colab_type": "text"
      },
      "source": [
        "### Define parameters for this project & download the data from Kaggle:"
      ]
    },
    {
      "cell_type": "code",
      "metadata": {
        "id": "WmAGqj2q66m6",
        "colab_type": "code",
        "outputId": "76744a9f-421a-4ada-94ed-f8107cdb1116",
        "colab": {
          "resources": {
            "http://localhost:8080/nbextensions/google.colab/files.js": {
              "data": "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",
              "ok": true,
              "headers": [
                [
                  "content-type",
                  "application/javascript"
                ]
              ],
              "status": 200,
              "status_text": ""
            }
          },
          "base_uri": "https://localhost:8080/",
          "height": 72
        }
      },
      "source": [
        "# Use this to upload the kaggle.json from your local machine:\n",
        "uploaded = files.upload()"
      ],
      "execution_count": 4,
      "outputs": [
        {
          "output_type": "display_data",
          "data": {
            "text/html": [
              "\n",
              "     <input type=\"file\" id=\"files-beda5293-c7c6-465d-acb9-c8c2a9e02f1a\" name=\"files[]\" multiple disabled />\n",
              "     <output id=\"result-beda5293-c7c6-465d-acb9-c8c2a9e02f1a\">\n",
              "      Upload widget is only available when the cell has been executed in the\n",
              "      current browser session. Please rerun this cell to enable.\n",
              "      </output>\n",
              "      <script src=\"/nbextensions/google.colab/files.js\"></script> "
            ],
            "text/plain": [
              "<IPython.core.display.HTML object>"
            ]
          },
          "metadata": {
            "tags": []
          }
        },
        {
          "output_type": "stream",
          "text": [
            "Saving kaggle.json to kaggle.json\n"
          ],
          "name": "stdout"
        }
      ]
    },
    {
      "cell_type": "code",
      "metadata": {
        "id": "l8nwQJPA6uyG",
        "colab_type": "code",
        "outputId": "e8da4b27-5195-4e3a-c689-56d5222f1db6",
        "colab": {
          "base_uri": "https://localhost:8080/",
          "height": 259
        }
      },
      "source": [
        "!cp kaggle.json '/root/.kaggle/'\n",
        "!chmod 600 '/root/.kaggle/kaggle.json'\n",
        "!kaggle config set -n path -v '/content/'\n",
        "!kaggle competitions download histopathologic-cancer-detection"
      ],
      "execution_count": 6,
      "outputs": [
        {
          "output_type": "stream",
          "text": [
            "- path is now set to: /content/\n",
            "Warning: Looks like you're using an outdated API Version, please consider updating (server 1.5.6 / client 1.5.4)\n",
            "Downloading sample_submission.csv.zip to /content/competitions/histopathologic-cancer-detection\n",
            "  0% 0.00/1.33M [00:00<?, ?B/s]\n",
            "100% 1.33M/1.33M [00:00<00:00, 44.0MB/s]\n",
            "Downloading train_labels.csv.zip to /content/competitions/histopathologic-cancer-detection\n",
            " 98% 5.00M/5.10M [00:00<00:00, 30.7MB/s]\n",
            "100% 5.10M/5.10M [00:00<00:00, 25.0MB/s]\n",
            "Downloading test.zip to /content/competitions/histopathologic-cancer-detection\n",
            " 99% 1.29G/1.30G [00:16<00:00, 82.7MB/s]\n",
            "100% 1.30G/1.30G [00:16<00:00, 84.7MB/s]\n",
            "Downloading train.zip to /content/competitions/histopathologic-cancer-detection\n",
            "100% 4.97G/4.98G [01:19<00:00, 110MB/s]\n",
            "100% 4.98G/4.98G [01:19<00:00, 67.3MB/s]\n"
          ],
          "name": "stdout"
        }
      ]
    },
    {
      "cell_type": "code",
      "metadata": {
        "trusted": true,
        "id": "AUwDI3wO3sAm",
        "colab_type": "code",
        "colab": {}
      },
      "source": [
        "root_dir = '/content/competitions/histopathologic-cancer-detection/'\n",
        "train_path = os.path.join(root_dir, 'train/')\n",
        "test_path = os.path.join(root_dir, 'test/')\n",
        "train_labels_path = os.path.join(root_dir, 'train_labels.csv/train_labels.csv')\n",
        "\n",
        "unique_identifier = 'id'\n",
        "target_class_column = 'label'"
      ],
      "execution_count": 0,
      "outputs": []
    },
    {
      "cell_type": "code",
      "metadata": {
        "id": "8q8letY58VVF",
        "colab_type": "code",
        "colab": {}
      },
      "source": [
        "# Unzip files in all zipped directories:\n",
        "os.chdir(root_dir)\n",
        "\n",
        "for path_to_zip_file in os.listdir():\n",
        "    new_directory = os.path.splitext(path_to_zip_file)[0]\n",
        "    os.makedirs(new_directory, exist_ok=True)\n",
        "    with zipfile.ZipFile(path_to_zip_file, 'r') as zip_ref:\n",
        "      zip_ref.extractall(new_directory)\n",
        "      zip_ref.close()"
      ],
      "execution_count": 0,
      "outputs": []
    },
    {
      "cell_type": "code",
      "metadata": {
        "id": "udO03v9C8YeR",
        "colab_type": "code",
        "outputId": "264d41af-b2f0-41e8-b970-f8a4b46da07f",
        "colab": {
          "base_uri": "https://localhost:8080/",
          "height": 173
        }
      },
      "source": [
        "os.chdir(root_dir)\n",
        "! ls -l | head -10"
      ],
      "execution_count": 9,
      "outputs": [
        {
          "output_type": "stream",
          "text": [
            "total 6616964\n",
            "drwxr-xr-x 2 root root       4096 Oct 29 16:53 sample_submission.csv\n",
            "-rw-r--r-- 1 root root    1394488 Oct 29 16:49 sample_submission.csv.zip\n",
            "drwxr-xr-x 2 root root    4378624 Oct 29 16:53 test\n",
            "-rw-r--r-- 1 root root 1401100547 Oct 29 16:49 test.zip\n",
            "drwxr-xr-x 2 root root   16556032 Oct 29 16:52 train\n",
            "drwxr-xr-x 2 root root       4096 Oct 29 16:53 train_labels.csv\n",
            "-rw-r--r-- 1 root root    5352900 Oct 29 16:49 train_labels.csv.zip\n",
            "-rw-r--r-- 1 root root 5346961539 Oct 29 16:50 train.zip\n"
          ],
          "name": "stdout"
        }
      ]
    },
    {
      "cell_type": "code",
      "metadata": {
        "trusted": true,
        "id": "h4g_Ma4f3sAu",
        "colab_type": "code",
        "outputId": "6de83249-9578-43eb-a661-b9f6f19e54ae",
        "colab": {
          "base_uri": "https://localhost:8080/",
          "height": 69
        }
      },
      "source": [
        "data = Data(train_path, train_labels_path, test_path, unique_identifier, target_class_column)"
      ],
      "execution_count": 35,
      "outputs": [
        {
          "output_type": "stream",
          "text": [
            "Found 176020 validated image filenames belonging to 2 classes.\n",
            "Found 44005 validated image filenames belonging to 2 classes.\n",
            "Found 57458 validated image filenames.\n"
          ],
          "name": "stdout"
        }
      ]
    },
    {
      "cell_type": "markdown",
      "metadata": {
        "id": "KCsEcBjk-lTB",
        "colab_type": "text"
      },
      "source": [
        "## Make a baseline model:"
      ]
    },
    {
      "cell_type": "code",
      "metadata": {
        "id": "aj4Yvg7MS-1e",
        "colab_type": "code",
        "colab": {}
      },
      "source": [
        "baseline_layers = [\n",
        "    keras.layers.Conv2D(filters = 64 , kernel_size = 7, activation = \"relu\", padding = \"valid\", input_shape = [data.image_size[0], data.image_size[1], data.n_channels]), \n",
        "    keras.layers.MaxPooling2D(pool_size = 2), \n",
        "    keras.layers.Conv2D(128, 3, activation = \"relu\", padding = \"same\"), \n",
        "    keras.layers.Conv2D(128, 3 , activation = \"relu\" , padding = \"same\"), \n",
        "    keras.layers.MaxPooling2D(2), \n",
        "    keras.layers.Conv2D(256, 3 , activation = \"relu\" , padding = \"same\"), \n",
        "    keras.layers.Conv2D(256, 3 , activation = \"relu\" , padding = \"same\"),   \n",
        "    keras.layers.MaxPooling2D(2), \n",
        "    keras.layers.Flatten(), \n",
        "    keras.layers.Dense(128, activation = \"relu\"), \n",
        "    keras.layers.Dropout(0.5), \n",
        "    keras.layers.Dense(64, activation = \"relu\"), \n",
        "    keras.layers.Dropout(0.5), \n",
        "    keras.layers.Dense(1, activation = \"sigmoid\")\n",
        "] \n",
        "baseline_model = keras.models.Sequential(baseline_layers, name = 'baseline')\n",
        "\n",
        "baseline_model.compile(loss = keras.losses.binary_crossentropy, optimizer=keras.optimizers.SGD(lr=0.001), metrics =['binary_accuracy'])"
      ],
      "execution_count": 0,
      "outputs": []
    },
    {
      "cell_type": "code",
      "metadata": {
        "id": "4YGP6qy7mKAj",
        "colab_type": "code",
        "outputId": "256083a6-3875-4a6e-84a6-783e502c47de",
        "colab": {
          "base_uri": "https://localhost:8080/",
          "height": 639
        }
      },
      "source": [
        "baseline_model.summary()"
      ],
      "execution_count": 37,
      "outputs": [
        {
          "output_type": "stream",
          "text": [
            "Model: \"baseline\"\n",
            "_________________________________________________________________\n",
            "Layer (type)                 Output Shape              Param #   \n",
            "=================================================================\n",
            "conv2d_5 (Conv2D)            (None, 90, 90, 64)        9472      \n",
            "_________________________________________________________________\n",
            "max_pooling2d_3 (MaxPooling2 (None, 45, 45, 64)        0         \n",
            "_________________________________________________________________\n",
            "conv2d_6 (Conv2D)            (None, 45, 45, 128)       73856     \n",
            "_________________________________________________________________\n",
            "conv2d_7 (Conv2D)            (None, 45, 45, 128)       147584    \n",
            "_________________________________________________________________\n",
            "max_pooling2d_4 (MaxPooling2 (None, 22, 22, 128)       0         \n",
            "_________________________________________________________________\n",
            "conv2d_8 (Conv2D)            (None, 22, 22, 256)       295168    \n",
            "_________________________________________________________________\n",
            "conv2d_9 (Conv2D)            (None, 22, 22, 256)       590080    \n",
            "_________________________________________________________________\n",
            "max_pooling2d_5 (MaxPooling2 (None, 11, 11, 256)       0         \n",
            "_________________________________________________________________\n",
            "flatten_1 (Flatten)          (None, 30976)             0         \n",
            "_________________________________________________________________\n",
            "dense_3 (Dense)              (None, 128)               3965056   \n",
            "_________________________________________________________________\n",
            "dropout_2 (Dropout)          (None, 128)               0         \n",
            "_________________________________________________________________\n",
            "dense_4 (Dense)              (None, 64)                8256      \n",
            "_________________________________________________________________\n",
            "dropout_3 (Dropout)          (None, 64)                0         \n",
            "_________________________________________________________________\n",
            "dense_5 (Dense)              (None, 1)                 65        \n",
            "=================================================================\n",
            "Total params: 5,089,537\n",
            "Trainable params: 5,089,537\n",
            "Non-trainable params: 0\n",
            "_________________________________________________________________\n"
          ],
          "name": "stdout"
        }
      ]
    },
    {
      "cell_type": "code",
      "metadata": {
        "trusted": true,
        "id": "U_blOQlQ3sA2",
        "colab_type": "code",
        "colab": {}
      },
      "source": [
        "models = ModelContainer()\n",
        "models.add_model(baseline_model)"
      ],
      "execution_count": 0,
      "outputs": []
    },
    {
      "cell_type": "code",
      "metadata": {
        "id": "EjDoAOKb43G9",
        "colab_type": "code",
        "outputId": "a66714b6-b54d-41a9-dca4-ae8fa26f8b65",
        "colab": {
          "base_uri": "https://localhost:8080/",
          "height": 35
        }
      },
      "source": [
        "models.models"
      ],
      "execution_count": 39,
      "outputs": [
        {
          "output_type": "execute_result",
          "data": {
            "text/plain": [
              "{'baseline': <tensorflow.python.keras.engine.sequential.Sequential at 0x7fc2f64aeeb8>}"
            ]
          },
          "metadata": {
            "tags": []
          },
          "execution_count": 39
        }
      ]
    },
    {
      "cell_type": "code",
      "metadata": {
        "trusted": true,
        "id": "cckhsFCg3sA7",
        "colab_type": "code",
        "outputId": "9eefd087-68d6-4fe8-ad5b-88e104efa087",
        "colab": {
          "base_uri": "https://localhost:8080/",
          "height": 815
        }
      },
      "source": [
        "models.train_model(data, baseline_model.name)"
      ],
      "execution_count": 40,
      "outputs": [
        {
          "output_type": "stream",
          "text": [
            "Epoch 1/15\n",
            "2750/2751 [============================>.] - ETA: 0s - loss: 0.6519 - binary_accuracy: 0.6137Epoch 1/15\n",
            "2751/2751 [==============================] - 516s 187ms/step - loss: 0.6518 - binary_accuracy: 0.6138 - val_loss: 0.6101 - val_binary_accuracy: 0.6335\n",
            "Epoch 2/15\n",
            "2750/2751 [============================>.] - ETA: 0s - loss: 0.5317 - binary_accuracy: 0.7578Epoch 1/15\n",
            "2751/2751 [==============================] - 510s 185ms/step - loss: 0.5317 - binary_accuracy: 0.7578 - val_loss: 0.4750 - val_binary_accuracy: 0.7828\n",
            "Epoch 3/15\n",
            "2750/2751 [============================>.] - ETA: 0s - loss: 0.4891 - binary_accuracy: 0.7831Epoch 1/15\n",
            "2751/2751 [==============================] - 497s 181ms/step - loss: 0.4891 - binary_accuracy: 0.7831 - val_loss: 0.4536 - val_binary_accuracy: 0.7933\n",
            "Epoch 4/15\n",
            "2750/2751 [============================>.] - ETA: 0s - loss: 0.4690 - binary_accuracy: 0.7941Epoch 1/15\n",
            "2751/2751 [==============================] - 485s 176ms/step - loss: 0.4690 - binary_accuracy: 0.7941 - val_loss: 0.4320 - val_binary_accuracy: 0.8057\n",
            "Epoch 5/15\n",
            "2750/2751 [============================>.] - ETA: 0s - loss: 0.4564 - binary_accuracy: 0.7995Epoch 1/15\n",
            "2751/2751 [==============================] - 494s 180ms/step - loss: 0.4565 - binary_accuracy: 0.7995 - val_loss: 0.4469 - val_binary_accuracy: 0.7935\n",
            "Epoch 6/15\n",
            "2750/2751 [============================>.] - ETA: 0s - loss: 0.4473 - binary_accuracy: 0.8049Epoch 1/15\n",
            "2751/2751 [==============================] - 485s 176ms/step - loss: 0.4473 - binary_accuracy: 0.8049 - val_loss: 0.4614 - val_binary_accuracy: 0.7875\n",
            "Epoch 7/15\n",
            "2750/2751 [============================>.] - ETA: 0s - loss: 0.4378 - binary_accuracy: 0.8095Epoch 1/15\n",
            "2751/2751 [==============================] - 485s 176ms/step - loss: 0.4378 - binary_accuracy: 0.8095 - val_loss: 0.4189 - val_binary_accuracy: 0.8133\n",
            "Epoch 8/15\n",
            "2750/2751 [============================>.] - ETA: 0s - loss: 0.4292 - binary_accuracy: 0.8149Epoch 1/15\n",
            "2751/2751 [==============================] - 485s 176ms/step - loss: 0.4292 - binary_accuracy: 0.8149 - val_loss: 0.3981 - val_binary_accuracy: 0.8261\n",
            "Epoch 9/15\n",
            "2750/2751 [============================>.] - ETA: 0s - loss: 0.4210 - binary_accuracy: 0.8195Epoch 1/15\n",
            "2751/2751 [==============================] - 485s 176ms/step - loss: 0.4210 - binary_accuracy: 0.8194 - val_loss: 0.3934 - val_binary_accuracy: 0.8294\n",
            "Epoch 10/15\n",
            "2750/2751 [============================>.] - ETA: 0s - loss: 0.4153 - binary_accuracy: 0.8229Epoch 1/15\n",
            "2751/2751 [==============================] - 485s 176ms/step - loss: 0.4153 - binary_accuracy: 0.8229 - val_loss: 0.4026 - val_binary_accuracy: 0.8178\n",
            "Epoch 11/15\n",
            "2750/2751 [============================>.] - ETA: 0s - loss: 0.4102 - binary_accuracy: 0.8252Epoch 1/15\n",
            "2751/2751 [==============================] - 485s 176ms/step - loss: 0.4103 - binary_accuracy: 0.8252 - val_loss: 0.4213 - val_binary_accuracy: 0.8137\n",
            "Epoch 12/15\n",
            "2750/2751 [============================>.] - ETA: 0s - loss: 0.4039 - binary_accuracy: 0.8282Epoch 1/15\n",
            "2751/2751 [==============================] - 485s 176ms/step - loss: 0.4038 - binary_accuracy: 0.8282 - val_loss: 0.3748 - val_binary_accuracy: 0.8389\n",
            "Epoch 13/15\n",
            "2750/2751 [============================>.] - ETA: 0s - loss: 0.3995 - binary_accuracy: 0.8292Epoch 1/15\n",
            "2751/2751 [==============================] - 489s 178ms/step - loss: 0.3995 - binary_accuracy: 0.8292 - val_loss: 0.3790 - val_binary_accuracy: 0.8311\n",
            "Epoch 14/15\n",
            "2750/2751 [============================>.] - ETA: 0s - loss: 0.3957 - binary_accuracy: 0.8317Epoch 1/15\n",
            "2751/2751 [==============================] - 488s 177ms/step - loss: 0.3957 - binary_accuracy: 0.8317 - val_loss: 0.3679 - val_binary_accuracy: 0.8411\n",
            "Epoch 15/15\n",
            "2750/2751 [============================>.] - ETA: 0s - loss: 0.3918 - binary_accuracy: 0.8336Epoch 1/15\n",
            "2751/2751 [==============================] - 488s 177ms/step - loss: 0.3918 - binary_accuracy: 0.8336 - val_loss: 0.3656 - val_binary_accuracy: 0.8428\n"
          ],
          "name": "stdout"
        }
      ]
    },
    {
      "cell_type": "code",
      "metadata": {
        "id": "zFMAzPAV87FR",
        "colab_type": "code",
        "colab": {}
      },
      "source": [
        "files.download(\"baseline.h5\")"
      ],
      "execution_count": 0,
      "outputs": []
    },
    {
      "cell_type": "code",
      "metadata": {
        "id": "H2Lg6pO1-ZP3",
        "colab_type": "code",
        "outputId": "c6ec00de-e40c-45b2-ff81-8768f85f5d1f",
        "colab": {
          "base_uri": "https://localhost:8080/",
          "height": 190
        }
      },
      "source": [
        "!ls -l | head -10"
      ],
      "execution_count": 51,
      "outputs": [
        {
          "output_type": "stream",
          "text": [
            "total 6640024\n",
            "-rw-r--r-- 1 root root   20402728 Oct 29 19:38 baseline.h5\n",
            "drwxr-xr-x 2 root root       4096 Oct 29 16:53 sample_submission.csv\n",
            "-rw-r--r-- 1 root root    1394488 Oct 29 16:49 sample_submission.csv.zip\n",
            "-rw-r--r-- 1 root root    3206753 Oct 29 20:59 submission.csv\n",
            "drwxr-xr-x 2 root root    4378624 Oct 29 16:53 test\n",
            "-rw-r--r-- 1 root root 1401100547 Oct 29 16:49 test.zip\n",
            "drwxr-xr-x 2 root root   16556032 Oct 29 16:52 train\n",
            "drwxr-xr-x 2 root root       4096 Oct 29 16:53 train_labels.csv\n",
            "-rw-r--r-- 1 root root    5352900 Oct 29 16:49 train_labels.csv.zip\n"
          ],
          "name": "stdout"
        }
      ]
    },
    {
      "cell_type": "code",
      "metadata": {
        "id": "giKfNWlI_NGw",
        "colab_type": "code",
        "outputId": "ce538dbc-19d3-4e82-b339-316831af6063",
        "colab": {
          "base_uri": "https://localhost:8080/",
          "height": 35
        }
      },
      "source": [
        "models.select_best_model()\n",
        "models.best_model_name\n"
      ],
      "execution_count": 42,
      "outputs": [
        {
          "output_type": "execute_result",
          "data": {
            "text/plain": [
              "'baseline'"
            ]
          },
          "metadata": {
            "tags": []
          },
          "execution_count": 42
        }
      ]
    },
    {
      "cell_type": "code",
      "metadata": {
        "trusted": true,
        "id": "iyLbfv_n3sA-",
        "colab_type": "code",
        "colab": {}
      },
      "source": [
        "models.print_summary()\n"
      ],
      "execution_count": 0,
      "outputs": []
    },
    {
      "cell_type": "code",
      "metadata": {
        "id": "RaoQSnHteVEb",
        "colab_type": "code",
        "colab": {}
      },
      "source": [
        "models.best_model_predict(data.test_generator)"
      ],
      "execution_count": 0,
      "outputs": []
    },
    {
      "cell_type": "code",
      "metadata": {
        "id": "ZdNgHWkegYxI",
        "colab_type": "code",
        "colab": {
          "base_uri": "https://localhost:8080/",
          "height": 35
        },
        "outputId": "e9bdc468-903b-4264-cdc8-2d41ed906054"
      },
      "source": [
        "models.predictions.shape"
      ],
      "execution_count": 45,
      "outputs": [
        {
          "output_type": "execute_result",
          "data": {
            "text/plain": [
              "(57458, 1)"
            ]
          },
          "metadata": {
            "tags": []
          },
          "execution_count": 45
        }
      ]
    },
    {
      "cell_type": "code",
      "metadata": {
        "id": "ePSoHGv9Z3Ga",
        "colab_type": "code",
        "colab": {}
      },
      "source": [
        "models.best_model_predict(data.validation_generator)"
      ],
      "execution_count": 0,
      "outputs": []
    },
    {
      "cell_type": "code",
      "metadata": {
        "id": "YQP4WDgMQnFt",
        "colab_type": "code",
        "colab": {
          "base_uri": "https://localhost:8080/",
          "height": 35
        },
        "outputId": "bb4e90c0-4f13-4d1e-cf81-2c8a729f2837"
      },
      "source": [
        "false_pos_rate, true_pos_rate, thresholds = roc_curve(data.validation_generator.classes, models.predictions)\n",
        "auc_score = auc(false_pos_rate, true_pos_rate)\n",
        "auc_score"
      ],
      "execution_count": 62,
      "outputs": [
        {
          "output_type": "execute_result",
          "data": {
            "text/plain": [
              "0.4972746709380888"
            ]
          },
          "metadata": {
            "tags": []
          },
          "execution_count": 62
        }
      ]
    },
    {
      "cell_type": "code",
      "metadata": {
        "id": "SBrL60Z3XMUr",
        "colab_type": "code",
        "colab": {
          "base_uri": "https://localhost:8080/",
          "height": 295
        },
        "outputId": "a5c37d37-3016-48ee-86ae-c4571bc5af8c"
      },
      "source": [
        "plt.figure(1)\n",
        "plt.plot([0, 1], [0, 1], 'k--')\n",
        "plt.plot(false_pos_rate, true_pos_rate, label='area = {:.3f}'.format(auc_score))\n",
        "plt.xlabel('False positive rate')\n",
        "plt.ylabel('True positive rate')\n",
        "plt.title('ROC curve')\n",
        "plt.legend(loc='best')\n",
        "plt.show()"
      ],
      "execution_count": 65,
      "outputs": [
        {
          "output_type": "display_data",
          "data": {
            "image/png": "[encoded data removed]",
            "text/plain": [
              "<Figure size 432x288 with 1 Axes>"
            ]
          },
          "metadata": {
            "tags": []
          }
        }
      ]
    },
    {
      "cell_type": "markdown",
      "metadata": {
        "id": "sevNPJk7SPv2",
        "colab_type": "text"
      },
      "source": [
        "### Submission to Kaggle:"
      ]
    },
    {
      "cell_type": "code",
      "metadata": {
        "id": "3M4SBz-4abyz",
        "colab_type": "code",
        "colab": {}
      },
      "source": [
        "models.best_model_predict(data.test_generator)"
      ],
      "execution_count": 0,
      "outputs": []
    },
    {
      "cell_type": "code",
      "metadata": {
        "id": "vHAYXtGDSOzy",
        "colab_type": "code",
        "colab": {}
      },
      "source": [
        "# Predictions were made in the order of the test_df using the test generator:\n",
        "submission = data.test_df\n",
        "submission['label'] = models.predictions\n",
        "# Take out the extension for the submission:\n",
        "submission['id'] = submission['id'].apply(lambda x: x.split(\".\")[0])\n",
        "\n",
        "submission.to_csv(\"submission.csv\", index = False, header = True)\n"
      ],
      "execution_count": 0,
      "outputs": []
    },
    {
      "cell_type": "code",
      "metadata": {
        "id": "atWyLs5rUGc3",
        "colab_type": "code",
        "colab": {
          "base_uri": "https://localhost:8080/",
          "height": 198
        },
        "outputId": "5999e3fc-d326-4d91-c6c2-53ab77ebf570"
      },
      "source": [
        "submission.head()"
      ],
      "execution_count": 57,
      "outputs": [
        {
          "output_type": "execute_result",
          "data": {
            "text/html": [
              "<div>\n",
              "<style scoped>\n",
              "    .dataframe tbody tr th:only-of-type {\n",
              "        vertical-align: middle;\n",
              "    }\n",
              "\n",
              "    .dataframe tbody tr th {\n",
              "        vertical-align: top;\n",
              "    }\n",
              "\n",
              "    .dataframe thead th {\n",
              "        text-align: right;\n",
              "    }\n",
              "</style>\n",
              "<table border=\"1\" class=\"dataframe\">\n",
              "  <thead>\n",
              "    <tr style=\"text-align: right;\">\n",
              "      <th></th>\n",
              "      <th>id</th>\n",
              "      <th>label</th>\n",
              "    </tr>\n",
              "  </thead>\n",
              "  <tbody>\n",
              "    <tr>\n",
              "      <th>0</th>\n",
              "      <td>5d8721415d9480961c2d72e63343a64c7f656048</td>\n",
              "      <td>0.075276</td>\n",
              "    </tr>\n",
              "    <tr>\n",
              "      <th>1</th>\n",
              "      <td>9527fb2270fe6e386db403ab2a921d2e57ae2d02</td>\n",
              "      <td>0.122981</td>\n",
              "    </tr>\n",
              "    <tr>\n",
              "      <th>2</th>\n",
              "      <td>1ae9525a90929a70ce0c91e2d76ad8b9d5fb7c4a</td>\n",
              "      <td>0.064698</td>\n",
              "    </tr>\n",
              "    <tr>\n",
              "      <th>3</th>\n",
              "      <td>e812221e6331fc3ba9809c3f86db3579253bc2ab</td>\n",
              "      <td>0.611433</td>\n",
              "    </tr>\n",
              "    <tr>\n",
              "      <th>4</th>\n",
              "      <td>c1cc4da4d3e111f63959b1c984ecbb0806879099</td>\n",
              "      <td>0.070948</td>\n",
              "    </tr>\n",
              "  </tbody>\n",
              "</table>\n",
              "</div>"
            ],
            "text/plain": [
              "                                         id     label\n",
              "0  5d8721415d9480961c2d72e63343a64c7f656048  0.075276\n",
              "1  9527fb2270fe6e386db403ab2a921d2e57ae2d02  0.122981\n",
              "2  1ae9525a90929a70ce0c91e2d76ad8b9d5fb7c4a  0.064698\n",
              "3  e812221e6331fc3ba9809c3f86db3579253bc2ab  0.611433\n",
              "4  c1cc4da4d3e111f63959b1c984ecbb0806879099  0.070948"
            ]
          },
          "metadata": {
            "tags": []
          },
          "execution_count": 57
        }
      ]
    },
    {
      "cell_type": "code",
      "metadata": {
        "id": "6mOIhYV5UH49",
        "colab_type": "code",
        "colab": {}
      },
      "source": [
        "files.download(\"submission.csv\")"
      ],
      "execution_count": 0,
      "outputs": []
    },
    {
      "cell_type": "code",
      "metadata": {
        "id": "vAw-jooyVAlr",
        "colab_type": "code",
        "colab": {
          "base_uri": "https://localhost:8080/",
          "height": 69
        },
        "outputId": "48820435-d4cd-4513-89d3-5faa63948ca7"
      },
      "source": [
        "!kaggle competitions submit -c histopathologic-cancer-detection -f submission.csv -m \"Message\""
      ],
      "execution_count": 59,
      "outputs": [
        {
          "output_type": "stream",
          "text": [
            "Warning: Looks like you're using an outdated API Version, please consider updating (server 1.5.6 / client 1.5.4)\n",
            "100% 2.84M/2.84M [00:07<00:00, 414kB/s]\n",
            "Successfully submitted to Histopathologic Cancer Detection"
          ],
          "name": "stdout"
        }
      ]
    }
  ]
}